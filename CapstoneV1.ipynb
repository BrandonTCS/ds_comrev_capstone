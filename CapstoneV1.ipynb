{
 "cells": [
  {
   "cell_type": "markdown",
   "id": "d23c1776",
   "metadata": {},
   "source": [
    "## NLP with company reviews on Glassdoor\n",
    "\n",
    "This capstone project is about helping companies/potential employee identify potential problems within a company. The business focus will be to help potential clients/companies get insights into the problems that existing or past employees faced within the company to reduce the turnover rate, solve potential mental health issues of employees and improve the image of the company. This could also assist the ministry of manpower or ministry with complaints filed by employees on employers for misconduct on determining if such issues has been flagged by other employees of the companies. These are just some of the use case of this project but not just limited to only the use case mentioned above."
   ]
  },
  {
   "cell_type": "markdown",
   "id": "fde257cb",
   "metadata": {},
   "source": [
    "#### Credit to Mathew Chatham for the scraper\n",
    "This is to credit Matthew Chatham for the scraper in which he had created and shared on github. The scraper could not work immediately as the codes on glassdoor has changed over the time of 2 -3 years which he created the scraper. Some tweaks was done to update and remove fields that are not required. The link can be found here (https://github.com/MatthewChatham/glassdoor-review-scraper) "
   ]
  },
  {
   "cell_type": "code",
   "execution_count": 1,
   "id": "843a6e12",
   "metadata": {},
   "outputs": [],
   "source": [
    "import selenium\n",
    "import pandas as pd\n",
    "import matplotlib.pyplot as plt\n",
    "from sklearn.impute import SimpleImputer\n",
    "import seaborn as sns\n",
    "import re\n",
    "import spacy"
   ]
  },
  {
   "cell_type": "markdown",
   "id": "1c19a0f5",
   "metadata": {},
   "source": [
    "## Data Extraction\n",
    "\n",
    "### Using the scraper to obtain the data and putting it into a DataFrame"
   ]
  },
  {
   "cell_type": "code",
   "execution_count": null,
   "id": "a5735cc6",
   "metadata": {},
   "outputs": [],
   "source": [
    "# using the code by Matthew after some updates was done to get the scraper to work\n",
    "\n",
    "# this is to scrape 500 reviews from glassdoor of Tencent a china internet company\n",
    "%run main.py --url \"https://www.glassdoor.sg/Reviews/Tencent-Reviews-E38281.htm\" --limit 500 -f tencent_reviews.csv"
   ]
  },
  {
   "cell_type": "code",
   "execution_count": null,
   "id": "739a7ad2",
   "metadata": {},
   "outputs": [],
   "source": [
    "# this is to scrape 500 reviews from glassdoor of Google a US internet company\n",
    "%run main.py --url \"https://www.glassdoor.sg/Reviews/Google-Reviews-E9079.htm\" --limit 500 -f google_reviews.csv"
   ]
  },
  {
   "cell_type": "code",
   "execution_count": 2,
   "id": "41e702cd",
   "metadata": {},
   "outputs": [],
   "source": [
    "# reading the csv file and assign the data to a variable in a dataframe\n",
    "tencent_df = pd.read_csv('tencent_reviews.csv')\n",
    "google_df = pd.read_csv('google_reviews.csv')"
   ]
  },
  {
   "cell_type": "code",
   "execution_count": 3,
   "id": "cc821624",
   "metadata": {
    "scrolled": false
   },
   "outputs": [
    {
     "data": {
      "text/html": [
       "<div>\n",
       "<style scoped>\n",
       "    .dataframe tbody tr th:only-of-type {\n",
       "        vertical-align: middle;\n",
       "    }\n",
       "\n",
       "    .dataframe tbody tr th {\n",
       "        vertical-align: top;\n",
       "    }\n",
       "\n",
       "    .dataframe thead th {\n",
       "        text-align: right;\n",
       "    }\n",
       "</style>\n",
       "<table border=\"1\" class=\"dataframe\">\n",
       "  <thead>\n",
       "    <tr style=\"text-align: right;\">\n",
       "      <th></th>\n",
       "      <th>employee_title</th>\n",
       "      <th>location</th>\n",
       "      <th>employee_status</th>\n",
       "      <th>review_title</th>\n",
       "      <th>pros</th>\n",
       "      <th>cons</th>\n",
       "      <th>rating_overall</th>\n",
       "    </tr>\n",
       "  </thead>\n",
       "  <tbody>\n",
       "    <tr>\n",
       "      <th>377</th>\n",
       "      <td>Senior Product Manager</td>\n",
       "      <td>Beijing, Beijing</td>\n",
       "      <td>31 May 2021</td>\n",
       "      <td>fine</td>\n",
       "      <td>good culture, good people, good place to learn\\n</td>\n",
       "      <td>heavy workload, nearly no WLB\\nBe the first to...</td>\n",
       "      <td>4.0</td>\n",
       "    </tr>\n",
       "    <tr>\n",
       "      <th>279</th>\n",
       "      <td>Site Reliability Engineer</td>\n",
       "      <td>NaN</td>\n",
       "      <td>18 Oct 2021</td>\n",
       "      <td>Good benefit</td>\n",
       "      <td>Good benefit and care employees a lot\\n</td>\n",
       "      <td>Still at a start-up like stage\\nBe the first t...</td>\n",
       "      <td>4.0</td>\n",
       "    </tr>\n",
       "    <tr>\n",
       "      <th>426</th>\n",
       "      <td>Software Engineer</td>\n",
       "      <td>NaN</td>\n",
       "      <td>13 Apr 2021</td>\n",
       "      <td>no</td>\n",
       "      <td>big company, high tech and salary\\n</td>\n",
       "      <td>too tired, has no time to study\\nBe the first ...</td>\n",
       "      <td>3.0</td>\n",
       "    </tr>\n",
       "    <tr>\n",
       "      <th>464</th>\n",
       "      <td>Front End Senior Developer</td>\n",
       "      <td>NaN</td>\n",
       "      <td>23 Feb 2021</td>\n",
       "      <td>recommend</td>\n",
       "      <td>1. RSU benefit\\n2. extra medical insurance\\n3....</td>\n",
       "      <td>1. WLB is not so good\\nBe the first to find th...</td>\n",
       "      <td>4.0</td>\n",
       "    </tr>\n",
       "    <tr>\n",
       "      <th>308</th>\n",
       "      <td>Anonymous</td>\n",
       "      <td>Palo Alto, CA</td>\n",
       "      <td>11 Oct 2021</td>\n",
       "      <td>Typical zombie giant with leadership level res...</td>\n",
       "      <td>All kinds of perks, great medical insurance, e...</td>\n",
       "      <td>Hopeless company. The generation of old \"FI\" b...</td>\n",
       "      <td>1.0</td>\n",
       "    </tr>\n",
       "    <tr>\n",
       "      <th>298</th>\n",
       "      <td>Anonymous</td>\n",
       "      <td>NaN</td>\n",
       "      <td>2 Oct 2021</td>\n",
       "      <td>Working mechanism</td>\n",
       "      <td>Good way to China market\\n</td>\n",
       "      <td>Too many unnecessary working flow, and approva...</td>\n",
       "      <td>3.0</td>\n",
       "    </tr>\n",
       "    <tr>\n",
       "      <th>368</th>\n",
       "      <td>Marketing Assistant</td>\n",
       "      <td>Paris</td>\n",
       "      <td>18 Jun 2021</td>\n",
       "      <td>creative,quickly,nice company</td>\n",
       "      <td>It is a united, creative, and young company. B...</td>\n",
       "      <td>It is exclusive in some areas and has no compe...</td>\n",
       "      <td>4.0</td>\n",
       "    </tr>\n",
       "    <tr>\n",
       "      <th>265</th>\n",
       "      <td>Associate Product Manager</td>\n",
       "      <td>Shenzhen, Guangdong</td>\n",
       "      <td>1 Nov 2021</td>\n",
       "      <td>no work life balance</td>\n",
       "      <td>Big platform and big teams\\n</td>\n",
       "      <td>no work life balance, stressful sometimes\\nBe ...</td>\n",
       "      <td>4.0</td>\n",
       "    </tr>\n",
       "    <tr>\n",
       "      <th>484</th>\n",
       "      <td>Recruiter</td>\n",
       "      <td>NaN</td>\n",
       "      <td>16 Jan 2021</td>\n",
       "      <td>Good Company</td>\n",
       "      <td>Supportive company culture. Love the teams wor...</td>\n",
       "      <td>sometimes work overtime, average salary.\\nBe t...</td>\n",
       "      <td>4.0</td>\n",
       "    </tr>\n",
       "    <tr>\n",
       "      <th>313</th>\n",
       "      <td>Senior Frontend Developer</td>\n",
       "      <td>Shenzhen, Guangdong</td>\n",
       "      <td>12 Sept 2021</td>\n",
       "      <td>Good Company</td>\n",
       "      <td>* Good working environment\\n* Good welfare\\n</td>\n",
       "      <td>* The technology stack is a bit outdated\\nBe t...</td>\n",
       "      <td>4.0</td>\n",
       "    </tr>\n",
       "  </tbody>\n",
       "</table>\n",
       "</div>"
      ],
      "text/plain": [
       "                  employee_title             location employee_status  \\\n",
       "377       Senior Product Manager     Beijing, Beijing    31 May 2021    \n",
       "279    Site Reliability Engineer                  NaN    18 Oct 2021    \n",
       "426            Software Engineer                  NaN    13 Apr 2021    \n",
       "464   Front End Senior Developer                  NaN    23 Feb 2021    \n",
       "308                    Anonymous        Palo Alto, CA    11 Oct 2021    \n",
       "298                    Anonymous                  NaN     2 Oct 2021    \n",
       "368          Marketing Assistant                Paris    18 Jun 2021    \n",
       "265    Associate Product Manager  Shenzhen, Guangdong     1 Nov 2021    \n",
       "484                    Recruiter                  NaN    16 Jan 2021    \n",
       "313    Senior Frontend Developer  Shenzhen, Guangdong   12 Sept 2021    \n",
       "\n",
       "                                          review_title  \\\n",
       "377                                               fine   \n",
       "279                                       Good benefit   \n",
       "426                                                 no   \n",
       "464                                          recommend   \n",
       "308  Typical zombie giant with leadership level res...   \n",
       "298                                  Working mechanism   \n",
       "368                      creative,quickly,nice company   \n",
       "265                               no work life balance   \n",
       "484                                       Good Company   \n",
       "313                                       Good Company   \n",
       "\n",
       "                                                  pros  \\\n",
       "377   good culture, good people, good place to learn\\n   \n",
       "279            Good benefit and care employees a lot\\n   \n",
       "426                big company, high tech and salary\\n   \n",
       "464  1. RSU benefit\\n2. extra medical insurance\\n3....   \n",
       "308  All kinds of perks, great medical insurance, e...   \n",
       "298                         Good way to China market\\n   \n",
       "368  It is a united, creative, and young company. B...   \n",
       "265                       Big platform and big teams\\n   \n",
       "484  Supportive company culture. Love the teams wor...   \n",
       "313       * Good working environment\\n* Good welfare\\n   \n",
       "\n",
       "                                                  cons  rating_overall  \n",
       "377  heavy workload, nearly no WLB\\nBe the first to...             4.0  \n",
       "279  Still at a start-up like stage\\nBe the first t...             4.0  \n",
       "426  too tired, has no time to study\\nBe the first ...             3.0  \n",
       "464  1. WLB is not so good\\nBe the first to find th...             4.0  \n",
       "308  Hopeless company. The generation of old \"FI\" b...             1.0  \n",
       "298  Too many unnecessary working flow, and approva...             3.0  \n",
       "368  It is exclusive in some areas and has no compe...             4.0  \n",
       "265  no work life balance, stressful sometimes\\nBe ...             4.0  \n",
       "484  sometimes work overtime, average salary.\\nBe t...             4.0  \n",
       "313  * The technology stack is a bit outdated\\nBe t...             4.0  "
      ]
     },
     "execution_count": 3,
     "metadata": {},
     "output_type": "execute_result"
    }
   ],
   "source": [
    "tencent_df.sample(10)"
   ]
  },
  {
   "cell_type": "code",
   "execution_count": 4,
   "id": "c121ac11",
   "metadata": {
    "scrolled": false
   },
   "outputs": [
    {
     "data": {
      "text/html": [
       "<div>\n",
       "<style scoped>\n",
       "    .dataframe tbody tr th:only-of-type {\n",
       "        vertical-align: middle;\n",
       "    }\n",
       "\n",
       "    .dataframe tbody tr th {\n",
       "        vertical-align: top;\n",
       "    }\n",
       "\n",
       "    .dataframe thead th {\n",
       "        text-align: right;\n",
       "    }\n",
       "</style>\n",
       "<table border=\"1\" class=\"dataframe\">\n",
       "  <thead>\n",
       "    <tr style=\"text-align: right;\">\n",
       "      <th></th>\n",
       "      <th>employee_title</th>\n",
       "      <th>location</th>\n",
       "      <th>employee_status</th>\n",
       "      <th>review_title</th>\n",
       "      <th>pros</th>\n",
       "      <th>cons</th>\n",
       "      <th>rating_overall</th>\n",
       "    </tr>\n",
       "  </thead>\n",
       "  <tbody>\n",
       "    <tr>\n",
       "      <th>404</th>\n",
       "      <td>Product Lead</td>\n",
       "      <td>Singapore</td>\n",
       "      <td>6 Aug 2017</td>\n",
       "      <td>Greatest place to work</td>\n",
       "      <td>People to work with, scope of jobs and career ...</td>\n",
       "      <td>High internal and external competition for the...</td>\n",
       "      <td>5.0</td>\n",
       "    </tr>\n",
       "    <tr>\n",
       "      <th>234</th>\n",
       "      <td>Operations Manager</td>\n",
       "      <td>Singapore</td>\n",
       "      <td>15 Feb 2021</td>\n",
       "      <td>Great company</td>\n",
       "      <td>Interesting problems to solve, benefits , sala...</td>\n",
       "      <td>Too big to feel lost or insignificant\\nBe the ...</td>\n",
       "      <td>5.0</td>\n",
       "    </tr>\n",
       "    <tr>\n",
       "      <th>258</th>\n",
       "      <td>Software Engineer</td>\n",
       "      <td>Singapore</td>\n",
       "      <td>12 Jan 2021</td>\n",
       "      <td>Great place to work</td>\n",
       "      <td>Great place to work Great place to work\\n</td>\n",
       "      <td>nothing to declare here etc\\nBe the first to f...</td>\n",
       "      <td>5.0</td>\n",
       "    </tr>\n",
       "    <tr>\n",
       "      <th>389</th>\n",
       "      <td>Anonymous</td>\n",
       "      <td>NaN</td>\n",
       "      <td>2 Jun 2018</td>\n",
       "      <td>Sales</td>\n",
       "      <td>Good brand. Innovative. Nice colleagues and wi...</td>\n",
       "      <td>Silo. Need more collaboration. foster more tea...</td>\n",
       "      <td>4.0</td>\n",
       "    </tr>\n",
       "    <tr>\n",
       "      <th>57</th>\n",
       "      <td>Account Manager</td>\n",
       "      <td>NaN</td>\n",
       "      <td>11 Jan 2022</td>\n",
       "      <td>Great benefits and work culture</td>\n",
       "      <td>Cant complain about the insurance benefits\\nIn...</td>\n",
       "      <td>Fast pace high performers everywherr\\nBe the f...</td>\n",
       "      <td>5.0</td>\n",
       "    </tr>\n",
       "    <tr>\n",
       "      <th>348</th>\n",
       "      <td>Anonymous</td>\n",
       "      <td>NaN</td>\n",
       "      <td>13 Oct 2019</td>\n",
       "      <td>Great Place</td>\n",
       "      <td>Work culture is great and so is the pay\\n</td>\n",
       "      <td>Nothing as such, a great place to work\\nBe the...</td>\n",
       "      <td>4.0</td>\n",
       "    </tr>\n",
       "    <tr>\n",
       "      <th>11</th>\n",
       "      <td>Software Engineer</td>\n",
       "      <td>NaN</td>\n",
       "      <td>21 Apr 2022</td>\n",
       "      <td>Great company</td>\n",
       "      <td>Everything others say are true\\n</td>\n",
       "      <td>None so far for me\\nBe the first to find this ...</td>\n",
       "      <td>5.0</td>\n",
       "    </tr>\n",
       "    <tr>\n",
       "      <th>118</th>\n",
       "      <td>Global Mobility Specialist</td>\n",
       "      <td>Singapore</td>\n",
       "      <td>21 Aug 2021</td>\n",
       "      <td>Great culture &amp; people</td>\n",
       "      <td>Great culture and great people\\n</td>\n",
       "      <td>nothing to add at this point\\nBe the first to ...</td>\n",
       "      <td>5.0</td>\n",
       "    </tr>\n",
       "    <tr>\n",
       "      <th>8</th>\n",
       "      <td>Enginneering</td>\n",
       "      <td>NaN</td>\n",
       "      <td>13 May 2022</td>\n",
       "      <td>Good</td>\n",
       "      <td>Good welfare and office facilities\\nGood compe...</td>\n",
       "      <td>Limited career growth \\nNot applicable\\nBe the...</td>\n",
       "      <td>3.0</td>\n",
       "    </tr>\n",
       "    <tr>\n",
       "      <th>295</th>\n",
       "      <td>Senior Recruiter</td>\n",
       "      <td>NaN</td>\n",
       "      <td>15 Sept 2020</td>\n",
       "      <td>Great company</td>\n",
       "      <td>Benefits, culture, innovation, technology, glo...</td>\n",
       "      <td>Sometimes overly political, a lot of virtue si...</td>\n",
       "      <td>5.0</td>\n",
       "    </tr>\n",
       "  </tbody>\n",
       "</table>\n",
       "</div>"
      ],
      "text/plain": [
       "                  employee_title   location employee_status  \\\n",
       "404                 Product Lead  Singapore     6 Aug 2017    \n",
       "234           Operations Manager  Singapore    15 Feb 2021    \n",
       "258            Software Engineer  Singapore    12 Jan 2021    \n",
       "389                    Anonymous        NaN     2 Jun 2018    \n",
       "57               Account Manager        NaN    11 Jan 2022    \n",
       "348                    Anonymous        NaN    13 Oct 2019    \n",
       "11             Software Engineer        NaN    21 Apr 2022    \n",
       "118   Global Mobility Specialist  Singapore    21 Aug 2021    \n",
       "8                   Enginneering        NaN    13 May 2022    \n",
       "295             Senior Recruiter        NaN   15 Sept 2020    \n",
       "\n",
       "                        review_title  \\\n",
       "404           Greatest place to work   \n",
       "234                    Great company   \n",
       "258              Great place to work   \n",
       "389                            Sales   \n",
       "57   Great benefits and work culture   \n",
       "348                      Great Place   \n",
       "11                     Great company   \n",
       "118           Great culture & people   \n",
       "8                               Good   \n",
       "295                    Great company   \n",
       "\n",
       "                                                  pros  \\\n",
       "404  People to work with, scope of jobs and career ...   \n",
       "234  Interesting problems to solve, benefits , sala...   \n",
       "258          Great place to work Great place to work\\n   \n",
       "389  Good brand. Innovative. Nice colleagues and wi...   \n",
       "57   Cant complain about the insurance benefits\\nIn...   \n",
       "348          Work culture is great and so is the pay\\n   \n",
       "11                    Everything others say are true\\n   \n",
       "118                   Great culture and great people\\n   \n",
       "8    Good welfare and office facilities\\nGood compe...   \n",
       "295  Benefits, culture, innovation, technology, glo...   \n",
       "\n",
       "                                                  cons  rating_overall  \n",
       "404  High internal and external competition for the...             5.0  \n",
       "234  Too big to feel lost or insignificant\\nBe the ...             5.0  \n",
       "258  nothing to declare here etc\\nBe the first to f...             5.0  \n",
       "389  Silo. Need more collaboration. foster more tea...             4.0  \n",
       "57   Fast pace high performers everywherr\\nBe the f...             5.0  \n",
       "348  Nothing as such, a great place to work\\nBe the...             4.0  \n",
       "11   None so far for me\\nBe the first to find this ...             5.0  \n",
       "118  nothing to add at this point\\nBe the first to ...             5.0  \n",
       "8    Limited career growth \\nNot applicable\\nBe the...             3.0  \n",
       "295  Sometimes overly political, a lot of virtue si...             5.0  "
      ]
     },
     "execution_count": 4,
     "metadata": {},
     "output_type": "execute_result"
    }
   ],
   "source": [
    "google_df.sample(10)"
   ]
  },
  {
   "cell_type": "markdown",
   "id": "2443bc57",
   "metadata": {},
   "source": [
    "## Data Preprocessing\n",
    "\n",
    "### Checking for nulls and datatype"
   ]
  },
  {
   "cell_type": "code",
   "execution_count": 5,
   "id": "3833e46c",
   "metadata": {},
   "outputs": [
    {
     "name": "stdout",
     "output_type": "stream",
     "text": [
      "<class 'pandas.core.frame.DataFrame'>\n",
      "RangeIndex: 500 entries, 0 to 499\n",
      "Data columns (total 7 columns):\n",
      " #   Column           Non-Null Count  Dtype  \n",
      "---  ------           --------------  -----  \n",
      " 0   employee_title   500 non-null    object \n",
      " 1   location         306 non-null    object \n",
      " 2   employee_status  500 non-null    object \n",
      " 3   review_title     496 non-null    object \n",
      " 4   pros             498 non-null    object \n",
      " 5   cons             500 non-null    object \n",
      " 6   rating_overall   500 non-null    float64\n",
      "dtypes: float64(1), object(6)\n",
      "memory usage: 27.5+ KB\n"
     ]
    }
   ],
   "source": [
    "tencent_df.info()"
   ]
  },
  {
   "cell_type": "code",
   "execution_count": 6,
   "id": "15c28ffa",
   "metadata": {},
   "outputs": [
    {
     "name": "stdout",
     "output_type": "stream",
     "text": [
      "<class 'pandas.core.frame.DataFrame'>\n",
      "RangeIndex: 500 entries, 0 to 499\n",
      "Data columns (total 7 columns):\n",
      " #   Column           Non-Null Count  Dtype  \n",
      "---  ------           --------------  -----  \n",
      " 0   employee_title   485 non-null    object \n",
      " 1   location         280 non-null    object \n",
      " 2   employee_status  500 non-null    object \n",
      " 3   review_title     493 non-null    object \n",
      " 4   pros             484 non-null    object \n",
      " 5   cons             500 non-null    object \n",
      " 6   rating_overall   500 non-null    float64\n",
      "dtypes: float64(1), object(6)\n",
      "memory usage: 27.5+ KB\n"
     ]
    }
   ],
   "source": [
    "google_df.info()"
   ]
  },
  {
   "cell_type": "code",
   "execution_count": 7,
   "id": "df54a144",
   "metadata": {},
   "outputs": [],
   "source": [
    "# changing datatype of column: employee_status\n",
    "tencent_df['employee_status'] = tencent_df['employee_status'].astype('datetime64[ns]')\n",
    "google_df['employee_status'] = google_df['employee_status'].astype('datetime64[ns]')"
   ]
  },
  {
   "cell_type": "code",
   "execution_count": 8,
   "id": "a0a5b8d7",
   "metadata": {},
   "outputs": [
    {
     "data": {
      "text/plain": [
       "employee_title       0\n",
       "location           194\n",
       "employee_status      0\n",
       "review_title         4\n",
       "pros                 2\n",
       "cons                 0\n",
       "rating_overall       0\n",
       "dtype: int64"
      ]
     },
     "execution_count": 8,
     "metadata": {},
     "output_type": "execute_result"
    }
   ],
   "source": [
    "# check for nulls (tencent)\n",
    "tencent_df.isnull().sum()"
   ]
  },
  {
   "cell_type": "code",
   "execution_count": 9,
   "id": "a70bb447",
   "metadata": {},
   "outputs": [
    {
     "data": {
      "text/plain": [
       "employee_title      15\n",
       "location           220\n",
       "employee_status      0\n",
       "review_title         7\n",
       "pros                16\n",
       "cons                 0\n",
       "rating_overall       0\n",
       "dtype: int64"
      ]
     },
     "execution_count": 9,
     "metadata": {},
     "output_type": "execute_result"
    }
   ],
   "source": [
    "# check for nulls (google)\n",
    "google_df.isnull().sum()"
   ]
  },
  {
   "cell_type": "code",
   "execution_count": 10,
   "id": "77f524cb",
   "metadata": {},
   "outputs": [
    {
     "data": {
      "text/html": [
       "<div>\n",
       "<style scoped>\n",
       "    .dataframe tbody tr th:only-of-type {\n",
       "        vertical-align: middle;\n",
       "    }\n",
       "\n",
       "    .dataframe tbody tr th {\n",
       "        vertical-align: top;\n",
       "    }\n",
       "\n",
       "    .dataframe thead th {\n",
       "        text-align: right;\n",
       "    }\n",
       "</style>\n",
       "<table border=\"1\" class=\"dataframe\">\n",
       "  <thead>\n",
       "    <tr style=\"text-align: right;\">\n",
       "      <th></th>\n",
       "      <th>employee_title</th>\n",
       "      <th>location</th>\n",
       "      <th>employee_status</th>\n",
       "      <th>review_title</th>\n",
       "      <th>pros</th>\n",
       "      <th>cons</th>\n",
       "      <th>rating_overall</th>\n",
       "    </tr>\n",
       "  </thead>\n",
       "  <tbody>\n",
       "    <tr>\n",
       "      <th>379</th>\n",
       "      <td>NaN</td>\n",
       "      <td>NaN</td>\n",
       "      <td>2018-10-26</td>\n",
       "      <td>Very Good working environment @ google</td>\n",
       "      <td>fun people to work with\\n</td>\n",
       "      <td>work can be stressful at times\\nBe the first t...</td>\n",
       "      <td>5.0</td>\n",
       "    </tr>\n",
       "    <tr>\n",
       "      <th>408</th>\n",
       "      <td>NaN</td>\n",
       "      <td>NaN</td>\n",
       "      <td>2017-04-10</td>\n",
       "      <td>My internship experience</td>\n",
       "      <td>- Diversity \\n- Dynamic and helpful teams \\n- ...</td>\n",
       "      <td>- sometimes you have short time to socialise w...</td>\n",
       "      <td>5.0</td>\n",
       "    </tr>\n",
       "    <tr>\n",
       "      <th>410</th>\n",
       "      <td>NaN</td>\n",
       "      <td>NaN</td>\n",
       "      <td>2017-02-23</td>\n",
       "      <td>Analyst</td>\n",
       "      <td>Great Place to work at !\\n</td>\n",
       "      <td>Nothing that i can think of\\nAdvice to Managem...</td>\n",
       "      <td>5.0</td>\n",
       "    </tr>\n",
       "    <tr>\n",
       "      <th>418</th>\n",
       "      <td>NaN</td>\n",
       "      <td>NaN</td>\n",
       "      <td>2016-10-01</td>\n",
       "      <td>Pros and Cons - Just Like Any Other Big Company</td>\n",
       "      <td>and</td>\n",
       "      <td>- Just Like Any Other Big Company\\n1 Oct 2016 ...</td>\n",
       "      <td>3.0</td>\n",
       "    </tr>\n",
       "    <tr>\n",
       "      <th>422</th>\n",
       "      <td>NaN</td>\n",
       "      <td>NaN</td>\n",
       "      <td>2016-05-08</td>\n",
       "      <td>Selected for GSoC 2016</td>\n",
       "      <td>Adds value to your skillset and experience. Yo...</td>\n",
       "      <td>Should send at least two t-shirts and more goo...</td>\n",
       "      <td>5.0</td>\n",
       "    </tr>\n",
       "    <tr>\n",
       "      <th>425</th>\n",
       "      <td>NaN</td>\n",
       "      <td>New York, NY</td>\n",
       "      <td>2016-02-14</td>\n",
       "      <td>Great environment!</td>\n",
       "      <td>A place where people come together and produce...</td>\n",
       "      <td>Needs more people to execute at times\\nAdvice ...</td>\n",
       "      <td>4.0</td>\n",
       "    </tr>\n",
       "    <tr>\n",
       "      <th>426</th>\n",
       "      <td>NaN</td>\n",
       "      <td>NaN</td>\n",
       "      <td>2016-01-28</td>\n",
       "      <td>Online Advertising Specialist</td>\n",
       "      <td>Awesome people, great benefits and loads of op...</td>\n",
       "      <td>It is not the best place to get promoted fast\\...</td>\n",
       "      <td>5.0</td>\n",
       "    </tr>\n",
       "    <tr>\n",
       "      <th>427</th>\n",
       "      <td>NaN</td>\n",
       "      <td>NaN</td>\n",
       "      <td>2016-01-21</td>\n",
       "      <td>Business Manager</td>\n",
       "      <td>smart colleagues, great transparent culture\\n</td>\n",
       "      <td>extremely competitive, harder to advance given...</td>\n",
       "      <td>5.0</td>\n",
       "    </tr>\n",
       "    <tr>\n",
       "      <th>434</th>\n",
       "      <td>NaN</td>\n",
       "      <td>NaN</td>\n",
       "      <td>2015-08-14</td>\n",
       "      <td>Excellent company with limitless potential</td>\n",
       "      <td>awesome food, awesome people, great benefits a...</td>\n",
       "      <td>everything revolves around Mountain View. hard...</td>\n",
       "      <td>5.0</td>\n",
       "    </tr>\n",
       "    <tr>\n",
       "      <th>445</th>\n",
       "      <td>NaN</td>\n",
       "      <td>NaN</td>\n",
       "      <td>2014-10-12</td>\n",
       "      <td>Amazing place to work</td>\n",
       "      <td>Smart folks and great stuff to do.\\n</td>\n",
       "      <td>long hours, pay is okay and could be higher\\nB...</td>\n",
       "      <td>5.0</td>\n",
       "    </tr>\n",
       "    <tr>\n",
       "      <th>446</th>\n",
       "      <td>NaN</td>\n",
       "      <td>NaN</td>\n",
       "      <td>2014-10-10</td>\n",
       "      <td>Gd perks and great colleagues, fun loving and ...</td>\n",
       "      <td>Good perks and great colleagues\\n</td>\n",
       "      <td>Night calls all the time\\nAdvice to Management...</td>\n",
       "      <td>4.0</td>\n",
       "    </tr>\n",
       "    <tr>\n",
       "      <th>448</th>\n",
       "      <td>NaN</td>\n",
       "      <td>NaN</td>\n",
       "      <td>2014-08-20</td>\n",
       "      <td>Awesome</td>\n",
       "      <td>Good work life balance. Plenty of room to grow.\\n</td>\n",
       "      <td>Salary not too attractive. That said, benefits...</td>\n",
       "      <td>4.0</td>\n",
       "    </tr>\n",
       "    <tr>\n",
       "      <th>451</th>\n",
       "      <td>NaN</td>\n",
       "      <td>NaN</td>\n",
       "      <td>2014-01-07</td>\n",
       "      <td>Great company. Excellent work environment.</td>\n",
       "      <td>Free food. Excellent office location. Smart &amp; ...</td>\n",
       "      <td>Long days, working for global company means mu...</td>\n",
       "      <td>4.0</td>\n",
       "    </tr>\n",
       "    <tr>\n",
       "      <th>453</th>\n",
       "      <td>NaN</td>\n",
       "      <td>NaN</td>\n",
       "      <td>2013-10-03</td>\n",
       "      <td>All that glitters is not gold (YouTube)</td>\n",
       "      <td>All the usual (i) Lifestyle (ii) Perks (iii) F...</td>\n",
       "      <td>I work at YouTube. It is run like an army camp...</td>\n",
       "      <td>1.0</td>\n",
       "    </tr>\n",
       "    <tr>\n",
       "      <th>458</th>\n",
       "      <td>NaN</td>\n",
       "      <td>NaN</td>\n",
       "      <td>2013-03-13</td>\n",
       "      <td>Industry analyst intern</td>\n",
       "      <td>Best place to co-work and friendly mood\\n</td>\n",
       "      <td>it does not have any defects\\nBe the first to ...</td>\n",
       "      <td>5.0</td>\n",
       "    </tr>\n",
       "  </tbody>\n",
       "</table>\n",
       "</div>"
      ],
      "text/plain": [
       "    employee_title      location employee_status  \\\n",
       "379            NaN           NaN      2018-10-26   \n",
       "408            NaN           NaN      2017-04-10   \n",
       "410            NaN           NaN      2017-02-23   \n",
       "418            NaN           NaN      2016-10-01   \n",
       "422            NaN           NaN      2016-05-08   \n",
       "425            NaN  New York, NY      2016-02-14   \n",
       "426            NaN           NaN      2016-01-28   \n",
       "427            NaN           NaN      2016-01-21   \n",
       "434            NaN           NaN      2015-08-14   \n",
       "445            NaN           NaN      2014-10-12   \n",
       "446            NaN           NaN      2014-10-10   \n",
       "448            NaN           NaN      2014-08-20   \n",
       "451            NaN           NaN      2014-01-07   \n",
       "453            NaN           NaN      2013-10-03   \n",
       "458            NaN           NaN      2013-03-13   \n",
       "\n",
       "                                          review_title  \\\n",
       "379             Very Good working environment @ google   \n",
       "408                           My internship experience   \n",
       "410                                            Analyst   \n",
       "418    Pros and Cons - Just Like Any Other Big Company   \n",
       "422                             Selected for GSoC 2016   \n",
       "425                                 Great environment!   \n",
       "426                      Online Advertising Specialist   \n",
       "427                                   Business Manager   \n",
       "434         Excellent company with limitless potential   \n",
       "445                              Amazing place to work   \n",
       "446  Gd perks and great colleagues, fun loving and ...   \n",
       "448                                            Awesome   \n",
       "451         Great company. Excellent work environment.   \n",
       "453            All that glitters is not gold (YouTube)   \n",
       "458                            Industry analyst intern   \n",
       "\n",
       "                                                  pros  \\\n",
       "379                          fun people to work with\\n   \n",
       "408  - Diversity \\n- Dynamic and helpful teams \\n- ...   \n",
       "410                         Great Place to work at !\\n   \n",
       "418                                               and    \n",
       "422  Adds value to your skillset and experience. Yo...   \n",
       "425  A place where people come together and produce...   \n",
       "426  Awesome people, great benefits and loads of op...   \n",
       "427      smart colleagues, great transparent culture\\n   \n",
       "434  awesome food, awesome people, great benefits a...   \n",
       "445               Smart folks and great stuff to do.\\n   \n",
       "446                  Good perks and great colleagues\\n   \n",
       "448  Good work life balance. Plenty of room to grow.\\n   \n",
       "451  Free food. Excellent office location. Smart & ...   \n",
       "453  All the usual (i) Lifestyle (ii) Perks (iii) F...   \n",
       "458          Best place to co-work and friendly mood\\n   \n",
       "\n",
       "                                                  cons  rating_overall  \n",
       "379  work can be stressful at times\\nBe the first t...             5.0  \n",
       "408  - sometimes you have short time to socialise w...             5.0  \n",
       "410  Nothing that i can think of\\nAdvice to Managem...             5.0  \n",
       "418  - Just Like Any Other Big Company\\n1 Oct 2016 ...             3.0  \n",
       "422  Should send at least two t-shirts and more goo...             5.0  \n",
       "425  Needs more people to execute at times\\nAdvice ...             4.0  \n",
       "426  It is not the best place to get promoted fast\\...             5.0  \n",
       "427  extremely competitive, harder to advance given...             5.0  \n",
       "434  everything revolves around Mountain View. hard...             5.0  \n",
       "445  long hours, pay is okay and could be higher\\nB...             5.0  \n",
       "446  Night calls all the time\\nAdvice to Management...             4.0  \n",
       "448  Salary not too attractive. That said, benefits...             4.0  \n",
       "451  Long days, working for global company means mu...             4.0  \n",
       "453  I work at YouTube. It is run like an army camp...             1.0  \n",
       "458  it does not have any defects\\nBe the first to ...             5.0  "
      ]
     },
     "execution_count": 10,
     "metadata": {},
     "output_type": "execute_result"
    }
   ],
   "source": [
    "# exploring the nulls in google employee title\n",
    "\n",
    "google_df[google_df['employee_title'].isnull()]"
   ]
  },
  {
   "cell_type": "code",
   "execution_count": 11,
   "id": "1a6fd8d5",
   "metadata": {},
   "outputs": [],
   "source": [
    "'''from the above, we can see that some of the null values of employee title can be found in the review title. So we will fill\n",
    "the employee titles of these'''\n",
    "\n",
    "# index no (408, 410, 426, 427, 458) impute with position found in review title\n",
    "\n",
    "google_df.iloc[408, google_df.columns.get_loc('employee_title')] = 'Intern'\n",
    "google_df.iloc[410, google_df.columns.get_loc('employee_title')] = 'Analyst'\n",
    "google_df.iloc[426, google_df.columns.get_loc('employee_title')] = 'Online Advertising Specialist'\n",
    "google_df.iloc[427, google_df.columns.get_loc('employee_title')] = 'Business Manager'\n",
    "google_df.iloc[458, google_df.columns.get_loc('employee_title')] = 'Industry Analyst Intern'"
   ]
  },
  {
   "cell_type": "code",
   "execution_count": 12,
   "id": "81738923",
   "metadata": {},
   "outputs": [
    {
     "data": {
      "text/html": [
       "<div>\n",
       "<style scoped>\n",
       "    .dataframe tbody tr th:only-of-type {\n",
       "        vertical-align: middle;\n",
       "    }\n",
       "\n",
       "    .dataframe tbody tr th {\n",
       "        vertical-align: top;\n",
       "    }\n",
       "\n",
       "    .dataframe thead th {\n",
       "        text-align: right;\n",
       "    }\n",
       "</style>\n",
       "<table border=\"1\" class=\"dataframe\">\n",
       "  <thead>\n",
       "    <tr style=\"text-align: right;\">\n",
       "      <th></th>\n",
       "      <th>employee_title</th>\n",
       "      <th>location</th>\n",
       "      <th>employee_status</th>\n",
       "      <th>review_title</th>\n",
       "      <th>pros</th>\n",
       "      <th>cons</th>\n",
       "      <th>rating_overall</th>\n",
       "    </tr>\n",
       "  </thead>\n",
       "  <tbody>\n",
       "    <tr>\n",
       "      <th>379</th>\n",
       "      <td>NaN</td>\n",
       "      <td>NaN</td>\n",
       "      <td>2018-10-26</td>\n",
       "      <td>Very Good working environment @ google</td>\n",
       "      <td>fun people to work with\\n</td>\n",
       "      <td>work can be stressful at times\\nBe the first t...</td>\n",
       "      <td>5.0</td>\n",
       "    </tr>\n",
       "    <tr>\n",
       "      <th>418</th>\n",
       "      <td>NaN</td>\n",
       "      <td>NaN</td>\n",
       "      <td>2016-10-01</td>\n",
       "      <td>Pros and Cons - Just Like Any Other Big Company</td>\n",
       "      <td>and</td>\n",
       "      <td>- Just Like Any Other Big Company\\n1 Oct 2016 ...</td>\n",
       "      <td>3.0</td>\n",
       "    </tr>\n",
       "    <tr>\n",
       "      <th>422</th>\n",
       "      <td>NaN</td>\n",
       "      <td>NaN</td>\n",
       "      <td>2016-05-08</td>\n",
       "      <td>Selected for GSoC 2016</td>\n",
       "      <td>Adds value to your skillset and experience. Yo...</td>\n",
       "      <td>Should send at least two t-shirts and more goo...</td>\n",
       "      <td>5.0</td>\n",
       "    </tr>\n",
       "    <tr>\n",
       "      <th>425</th>\n",
       "      <td>NaN</td>\n",
       "      <td>New York, NY</td>\n",
       "      <td>2016-02-14</td>\n",
       "      <td>Great environment!</td>\n",
       "      <td>A place where people come together and produce...</td>\n",
       "      <td>Needs more people to execute at times\\nAdvice ...</td>\n",
       "      <td>4.0</td>\n",
       "    </tr>\n",
       "    <tr>\n",
       "      <th>434</th>\n",
       "      <td>NaN</td>\n",
       "      <td>NaN</td>\n",
       "      <td>2015-08-14</td>\n",
       "      <td>Excellent company with limitless potential</td>\n",
       "      <td>awesome food, awesome people, great benefits a...</td>\n",
       "      <td>everything revolves around Mountain View. hard...</td>\n",
       "      <td>5.0</td>\n",
       "    </tr>\n",
       "    <tr>\n",
       "      <th>445</th>\n",
       "      <td>NaN</td>\n",
       "      <td>NaN</td>\n",
       "      <td>2014-10-12</td>\n",
       "      <td>Amazing place to work</td>\n",
       "      <td>Smart folks and great stuff to do.\\n</td>\n",
       "      <td>long hours, pay is okay and could be higher\\nB...</td>\n",
       "      <td>5.0</td>\n",
       "    </tr>\n",
       "    <tr>\n",
       "      <th>446</th>\n",
       "      <td>NaN</td>\n",
       "      <td>NaN</td>\n",
       "      <td>2014-10-10</td>\n",
       "      <td>Gd perks and great colleagues, fun loving and ...</td>\n",
       "      <td>Good perks and great colleagues\\n</td>\n",
       "      <td>Night calls all the time\\nAdvice to Management...</td>\n",
       "      <td>4.0</td>\n",
       "    </tr>\n",
       "    <tr>\n",
       "      <th>448</th>\n",
       "      <td>NaN</td>\n",
       "      <td>NaN</td>\n",
       "      <td>2014-08-20</td>\n",
       "      <td>Awesome</td>\n",
       "      <td>Good work life balance. Plenty of room to grow.\\n</td>\n",
       "      <td>Salary not too attractive. That said, benefits...</td>\n",
       "      <td>4.0</td>\n",
       "    </tr>\n",
       "    <tr>\n",
       "      <th>451</th>\n",
       "      <td>NaN</td>\n",
       "      <td>NaN</td>\n",
       "      <td>2014-01-07</td>\n",
       "      <td>Great company. Excellent work environment.</td>\n",
       "      <td>Free food. Excellent office location. Smart &amp; ...</td>\n",
       "      <td>Long days, working for global company means mu...</td>\n",
       "      <td>4.0</td>\n",
       "    </tr>\n",
       "    <tr>\n",
       "      <th>453</th>\n",
       "      <td>NaN</td>\n",
       "      <td>NaN</td>\n",
       "      <td>2013-10-03</td>\n",
       "      <td>All that glitters is not gold (YouTube)</td>\n",
       "      <td>All the usual (i) Lifestyle (ii) Perks (iii) F...</td>\n",
       "      <td>I work at YouTube. It is run like an army camp...</td>\n",
       "      <td>1.0</td>\n",
       "    </tr>\n",
       "  </tbody>\n",
       "</table>\n",
       "</div>"
      ],
      "text/plain": [
       "    employee_title      location employee_status  \\\n",
       "379            NaN           NaN      2018-10-26   \n",
       "418            NaN           NaN      2016-10-01   \n",
       "422            NaN           NaN      2016-05-08   \n",
       "425            NaN  New York, NY      2016-02-14   \n",
       "434            NaN           NaN      2015-08-14   \n",
       "445            NaN           NaN      2014-10-12   \n",
       "446            NaN           NaN      2014-10-10   \n",
       "448            NaN           NaN      2014-08-20   \n",
       "451            NaN           NaN      2014-01-07   \n",
       "453            NaN           NaN      2013-10-03   \n",
       "\n",
       "                                          review_title  \\\n",
       "379             Very Good working environment @ google   \n",
       "418    Pros and Cons - Just Like Any Other Big Company   \n",
       "422                             Selected for GSoC 2016   \n",
       "425                                 Great environment!   \n",
       "434         Excellent company with limitless potential   \n",
       "445                              Amazing place to work   \n",
       "446  Gd perks and great colleagues, fun loving and ...   \n",
       "448                                            Awesome   \n",
       "451         Great company. Excellent work environment.   \n",
       "453            All that glitters is not gold (YouTube)   \n",
       "\n",
       "                                                  pros  \\\n",
       "379                          fun people to work with\\n   \n",
       "418                                               and    \n",
       "422  Adds value to your skillset and experience. Yo...   \n",
       "425  A place where people come together and produce...   \n",
       "434  awesome food, awesome people, great benefits a...   \n",
       "445               Smart folks and great stuff to do.\\n   \n",
       "446                  Good perks and great colleagues\\n   \n",
       "448  Good work life balance. Plenty of room to grow.\\n   \n",
       "451  Free food. Excellent office location. Smart & ...   \n",
       "453  All the usual (i) Lifestyle (ii) Perks (iii) F...   \n",
       "\n",
       "                                                  cons  rating_overall  \n",
       "379  work can be stressful at times\\nBe the first t...             5.0  \n",
       "418  - Just Like Any Other Big Company\\n1 Oct 2016 ...             3.0  \n",
       "422  Should send at least two t-shirts and more goo...             5.0  \n",
       "425  Needs more people to execute at times\\nAdvice ...             4.0  \n",
       "434  everything revolves around Mountain View. hard...             5.0  \n",
       "445  long hours, pay is okay and could be higher\\nB...             5.0  \n",
       "446  Night calls all the time\\nAdvice to Management...             4.0  \n",
       "448  Salary not too attractive. That said, benefits...             4.0  \n",
       "451  Long days, working for global company means mu...             4.0  \n",
       "453  I work at YouTube. It is run like an army camp...             1.0  "
      ]
     },
     "execution_count": 12,
     "metadata": {},
     "output_type": "execute_result"
    }
   ],
   "source": [
    "# remaining nulls in employee title after imputing the title\n",
    "google_df[google_df['employee_title'].isnull()]"
   ]
  },
  {
   "cell_type": "code",
   "execution_count": 13,
   "id": "57f76ded",
   "metadata": {},
   "outputs": [],
   "source": [
    "# as for the other missing employee title, we will instead fillna as \"Anonymous\"\n",
    "google_df['employee_title'].fillna('Anonymous', inplace = True)"
   ]
  },
  {
   "cell_type": "code",
   "execution_count": 14,
   "id": "50e72e36",
   "metadata": {},
   "outputs": [
    {
     "data": {
      "text/html": [
       "<div>\n",
       "<style scoped>\n",
       "    .dataframe tbody tr th:only-of-type {\n",
       "        vertical-align: middle;\n",
       "    }\n",
       "\n",
       "    .dataframe tbody tr th {\n",
       "        vertical-align: top;\n",
       "    }\n",
       "\n",
       "    .dataframe thead th {\n",
       "        text-align: right;\n",
       "    }\n",
       "</style>\n",
       "<table border=\"1\" class=\"dataframe\">\n",
       "  <thead>\n",
       "    <tr style=\"text-align: right;\">\n",
       "      <th></th>\n",
       "      <th>employee_title</th>\n",
       "      <th>location</th>\n",
       "      <th>employee_status</th>\n",
       "      <th>review_title</th>\n",
       "      <th>pros</th>\n",
       "      <th>cons</th>\n",
       "      <th>rating_overall</th>\n",
       "    </tr>\n",
       "  </thead>\n",
       "  <tbody>\n",
       "  </tbody>\n",
       "</table>\n",
       "</div>"
      ],
      "text/plain": [
       "Empty DataFrame\n",
       "Columns: [employee_title, location, employee_status, review_title, pros, cons, rating_overall]\n",
       "Index: []"
      ]
     },
     "execution_count": 14,
     "metadata": {},
     "output_type": "execute_result"
    }
   ],
   "source": [
    "# check if there is any more nulls in employee title\n",
    "google_df[google_df['employee_title'].isnull()]"
   ]
  },
  {
   "cell_type": "code",
   "execution_count": 15,
   "id": "d04bd4fa",
   "metadata": {},
   "outputs": [],
   "source": [
    "# using SimpleImputer with strategy set to most_frequent to impute NaN location to the most common\n",
    "\n",
    "imputer = SimpleImputer(strategy='most_frequent')\n",
    "google_df['location'] = imputer.fit_transform(google_df[['location']])\n",
    "tencent_df['location'] = imputer.fit_transform(tencent_df[['location']])"
   ]
  },
  {
   "cell_type": "code",
   "execution_count": 16,
   "id": "bae180f2",
   "metadata": {},
   "outputs": [],
   "source": [
    "# setting up a new column for only year of the review\n",
    "tencent_df['review_year'] = pd.DatetimeIndex(tencent_df['employee_status']).year\n",
    "google_df['review_year'] = pd.DatetimeIndex(google_df['employee_status']).year"
   ]
  },
  {
   "cell_type": "code",
   "execution_count": 17,
   "id": "028c1085",
   "metadata": {},
   "outputs": [],
   "source": [
    "# removing employee_status (exact date of the review)\n",
    "\n",
    "tencent_df.drop(columns='employee_status', inplace=True)\n",
    "google_df.drop(columns='employee_status', inplace=True)"
   ]
  },
  {
   "cell_type": "code",
   "execution_count": 18,
   "id": "3e008e41",
   "metadata": {},
   "outputs": [],
   "source": [
    "# fill text columns that have nan as blank\n",
    "tencent_df['review_title'].fillna('', inplace=True)\n",
    "google_df['review_title'].fillna('', inplace=True)\n",
    "\n",
    "tencent_df['pros'].fillna('', inplace=True)\n",
    "google_df['pros'].fillna('', inplace=True)"
   ]
  },
  {
   "cell_type": "code",
   "execution_count": 19,
   "id": "5624c02f",
   "metadata": {},
   "outputs": [
    {
     "name": "stdout",
     "output_type": "stream",
     "text": [
      "<class 'pandas.core.frame.DataFrame'>\n",
      "RangeIndex: 500 entries, 0 to 499\n",
      "Data columns (total 7 columns):\n",
      " #   Column          Non-Null Count  Dtype  \n",
      "---  ------          --------------  -----  \n",
      " 0   employee_title  500 non-null    object \n",
      " 1   location        500 non-null    object \n",
      " 2   review_title    500 non-null    object \n",
      " 3   pros            500 non-null    object \n",
      " 4   cons            500 non-null    object \n",
      " 5   rating_overall  500 non-null    float64\n",
      " 6   review_year     500 non-null    int64  \n",
      "dtypes: float64(1), int64(1), object(5)\n",
      "memory usage: 27.5+ KB\n"
     ]
    }
   ],
   "source": [
    "tencent_df.info()"
   ]
  },
  {
   "cell_type": "code",
   "execution_count": 20,
   "id": "8146e6a2",
   "metadata": {
    "scrolled": true
   },
   "outputs": [
    {
     "name": "stdout",
     "output_type": "stream",
     "text": [
      "<class 'pandas.core.frame.DataFrame'>\n",
      "RangeIndex: 500 entries, 0 to 499\n",
      "Data columns (total 7 columns):\n",
      " #   Column          Non-Null Count  Dtype  \n",
      "---  ------          --------------  -----  \n",
      " 0   employee_title  500 non-null    object \n",
      " 1   location        500 non-null    object \n",
      " 2   review_title    500 non-null    object \n",
      " 3   pros            500 non-null    object \n",
      " 4   cons            500 non-null    object \n",
      " 5   rating_overall  500 non-null    float64\n",
      " 6   review_year     500 non-null    int64  \n",
      "dtypes: float64(1), int64(1), object(5)\n",
      "memory usage: 27.5+ KB\n"
     ]
    }
   ],
   "source": [
    "google_df.info()"
   ]
  },
  {
   "cell_type": "markdown",
   "id": "2cefa7f4",
   "metadata": {},
   "source": [
    "#### Random check on the text from title, pros and cons. Notice that there are some columns that have cons written in pros and vice versa. Therefore, we will combine all the 3 columns into 1 instead of treating them separately."
   ]
  },
  {
   "cell_type": "code",
   "execution_count": 21,
   "id": "fe401592",
   "metadata": {},
   "outputs": [],
   "source": [
    "# concatanate all text columns into 1 columns\n",
    "\n",
    "tencent_df['title_pros_cons'] = tencent_df['review_title'] + '. ' + tencent_df['pros'] + '. ' + tencent_df['cons']\n",
    "google_df['title_pros_cons'] = google_df['review_title'] + '. ' + google_df['pros'] + '. ' + google_df['cons']"
   ]
  },
  {
   "cell_type": "code",
   "execution_count": 22,
   "id": "ec607c77",
   "metadata": {},
   "outputs": [],
   "source": [
    "# dropping previous columns that were combined\n",
    "tencent_df.drop(columns=['review_title', 'pros', 'cons'], inplace=True)\n",
    "google_df.drop(columns=['review_title', 'pros', 'cons'], inplace=True)"
   ]
  },
  {
   "cell_type": "code",
   "execution_count": 23,
   "id": "74d3a0a6",
   "metadata": {
    "scrolled": true
   },
   "outputs": [
    {
     "data": {
      "text/html": [
       "<div>\n",
       "<style scoped>\n",
       "    .dataframe tbody tr th:only-of-type {\n",
       "        vertical-align: middle;\n",
       "    }\n",
       "\n",
       "    .dataframe tbody tr th {\n",
       "        vertical-align: top;\n",
       "    }\n",
       "\n",
       "    .dataframe thead th {\n",
       "        text-align: right;\n",
       "    }\n",
       "</style>\n",
       "<table border=\"1\" class=\"dataframe\">\n",
       "  <thead>\n",
       "    <tr style=\"text-align: right;\">\n",
       "      <th></th>\n",
       "      <th>employee_title</th>\n",
       "      <th>location</th>\n",
       "      <th>rating_overall</th>\n",
       "      <th>review_year</th>\n",
       "      <th>title_pros_cons</th>\n",
       "    </tr>\n",
       "  </thead>\n",
       "  <tbody>\n",
       "    <tr>\n",
       "      <th>232</th>\n",
       "      <td>Industry Manager</td>\n",
       "      <td>Singapore</td>\n",
       "      <td>1.0</td>\n",
       "      <td>2021</td>\n",
       "      <td>Politics, politics, and politics. - talented c...</td>\n",
       "    </tr>\n",
       "    <tr>\n",
       "      <th>401</th>\n",
       "      <td>Recruiter</td>\n",
       "      <td>Singapore</td>\n",
       "      <td>1.0</td>\n",
       "      <td>2017</td>\n",
       "      <td>Used to be great, now just a normal corporate....</td>\n",
       "    </tr>\n",
       "    <tr>\n",
       "      <th>342</th>\n",
       "      <td>Recruiting Coordinator</td>\n",
       "      <td>Singapore</td>\n",
       "      <td>5.0</td>\n",
       "      <td>2019</td>\n",
       "      <td>Recruiter. Nice people and interesting work / ...</td>\n",
       "    </tr>\n",
       "    <tr>\n",
       "      <th>454</th>\n",
       "      <td>Business Development Manager</td>\n",
       "      <td>Singapore</td>\n",
       "      <td>4.0</td>\n",
       "      <td>2013</td>\n",
       "      <td>An innovative, fast paced, collaborative work ...</td>\n",
       "    </tr>\n",
       "    <tr>\n",
       "      <th>373</th>\n",
       "      <td>Anonymous</td>\n",
       "      <td>Singapore</td>\n",
       "      <td>5.0</td>\n",
       "      <td>2019</td>\n",
       "      <td>Business Development Manager. Get exposure to ...</td>\n",
       "    </tr>\n",
       "    <tr>\n",
       "      <th>21</th>\n",
       "      <td>Software Engineer</td>\n",
       "      <td>Singapore</td>\n",
       "      <td>4.0</td>\n",
       "      <td>2022</td>\n",
       "      <td>Good i learn allt there. Fun i learnt alot the...</td>\n",
       "    </tr>\n",
       "    <tr>\n",
       "      <th>369</th>\n",
       "      <td>Account Strategist</td>\n",
       "      <td>Singapore</td>\n",
       "      <td>5.0</td>\n",
       "      <td>2019</td>\n",
       "      <td>Great. people, perks, job scope, great manager...</td>\n",
       "    </tr>\n",
       "    <tr>\n",
       "      <th>484</th>\n",
       "      <td>Searcher</td>\n",
       "      <td>Singapore</td>\n",
       "      <td>5.0</td>\n",
       "      <td>2022</td>\n",
       "      <td>Searcher. Really good company to work with.\\n....</td>\n",
       "    </tr>\n",
       "    <tr>\n",
       "      <th>224</th>\n",
       "      <td>Marketing Manager</td>\n",
       "      <td>Singapore</td>\n",
       "      <td>4.0</td>\n",
       "      <td>2021</td>\n",
       "      <td>. Good working environment, good brand name\\n....</td>\n",
       "    </tr>\n",
       "    <tr>\n",
       "      <th>79</th>\n",
       "      <td>Anonymous</td>\n",
       "      <td>Singapore</td>\n",
       "      <td>5.0</td>\n",
       "      <td>2021</td>\n",
       "      <td>great!. very welcoming, staff is all friendly\\...</td>\n",
       "    </tr>\n",
       "  </tbody>\n",
       "</table>\n",
       "</div>"
      ],
      "text/plain": [
       "                    employee_title   location  rating_overall  review_year  \\\n",
       "232               Industry Manager  Singapore             1.0         2021   \n",
       "401                      Recruiter  Singapore             1.0         2017   \n",
       "342         Recruiting Coordinator  Singapore             5.0         2019   \n",
       "454   Business Development Manager  Singapore             4.0         2013   \n",
       "373                      Anonymous  Singapore             5.0         2019   \n",
       "21               Software Engineer  Singapore             4.0         2022   \n",
       "369             Account Strategist  Singapore             5.0         2019   \n",
       "484                       Searcher  Singapore             5.0         2022   \n",
       "224              Marketing Manager  Singapore             4.0         2021   \n",
       "79                       Anonymous  Singapore             5.0         2021   \n",
       "\n",
       "                                       title_pros_cons  \n",
       "232  Politics, politics, and politics. - talented c...  \n",
       "401  Used to be great, now just a normal corporate....  \n",
       "342  Recruiter. Nice people and interesting work / ...  \n",
       "454  An innovative, fast paced, collaborative work ...  \n",
       "373  Business Development Manager. Get exposure to ...  \n",
       "21   Good i learn allt there. Fun i learnt alot the...  \n",
       "369  Great. people, perks, job scope, great manager...  \n",
       "484  Searcher. Really good company to work with.\\n....  \n",
       "224  . Good working environment, good brand name\\n....  \n",
       "79   great!. very welcoming, staff is all friendly\\...  "
      ]
     },
     "execution_count": 23,
     "metadata": {},
     "output_type": "execute_result"
    }
   ],
   "source": [
    "google_df.sample(10)"
   ]
  },
  {
   "cell_type": "code",
   "execution_count": 86,
   "id": "e125476c",
   "metadata": {},
   "outputs": [
    {
     "data": {
      "text/html": [
       "<div>\n",
       "<style scoped>\n",
       "    .dataframe tbody tr th:only-of-type {\n",
       "        vertical-align: middle;\n",
       "    }\n",
       "\n",
       "    .dataframe tbody tr th {\n",
       "        vertical-align: top;\n",
       "    }\n",
       "\n",
       "    .dataframe thead th {\n",
       "        text-align: right;\n",
       "    }\n",
       "</style>\n",
       "<table border=\"1\" class=\"dataframe\">\n",
       "  <thead>\n",
       "    <tr style=\"text-align: right;\">\n",
       "      <th></th>\n",
       "      <th>employee_title</th>\n",
       "      <th>location</th>\n",
       "      <th>rating_overall</th>\n",
       "      <th>review_year</th>\n",
       "      <th>title_pros_cons</th>\n",
       "      <th>title_pros_cons_nostop</th>\n",
       "      <th>after_lemma</th>\n",
       "    </tr>\n",
       "  </thead>\n",
       "  <tbody>\n",
       "    <tr>\n",
       "      <th>31</th>\n",
       "      <td>Anonymous</td>\n",
       "      <td>Shenzhen, Guangdong</td>\n",
       "      <td>5.0</td>\n",
       "      <td>2021</td>\n",
       "      <td>(overall, great, place, to, work, with, good, culture, need, to, manage, a, lot, of, ad, hoc, tasks)</td>\n",
       "      <td>[overall, great, place, work, good, culture, need, manage, lot, ad, hoc, tasks]</td>\n",
       "      <td>[overall, great, place, work, good, culture, need, manage, lot, ad, hoc, task]</td>\n",
       "    </tr>\n",
       "    <tr>\n",
       "      <th>464</th>\n",
       "      <td>Front End Senior Developer</td>\n",
       "      <td>Shenzhen, Guangdong</td>\n",
       "      <td>4.0</td>\n",
       "      <td>2021</td>\n",
       "      <td>(recommend, 1, rsu, benefit2, extra, medical, insurance3, above, average, salary, 1, wlb, is, not, so, good)</td>\n",
       "      <td>[recommend, 1, rsu, benefit2, extra, medical, insurance3, average, salary, 1, wlb, good]</td>\n",
       "      <td>[recommend, 1, rsu, benefit2, extra, medical, insurance3, average, salary, 1, wlb, good]</td>\n",
       "    </tr>\n",
       "    <tr>\n",
       "      <th>64</th>\n",
       "      <td>Data Scientist</td>\n",
       "      <td>Shenzhen, Guangdong</td>\n",
       "      <td>4.0</td>\n",
       "      <td>2022</td>\n",
       "      <td>(review, of, tencent, good, atmospheregood, benefits, and, salary, no, significant, cons, i, am, satisfiedttencent, responsethank, you, glad, to, hear, that, you, have, had, a, positive, experience, with, us)</td>\n",
       "      <td>[review, tencent, good, atmospheregood, benefits, salary, significant, cons, satisfiedttencent, responsethank, glad, hear, positive, experience]</td>\n",
       "      <td>[review, tencent, good, atmospheregood, benefit, salary, significant, con, satisfiedttencent, responsethank, glad, hear, positive, experience]</td>\n",
       "    </tr>\n",
       "    <tr>\n",
       "      <th>459</th>\n",
       "      <td>Senior Manager, Operations</td>\n",
       "      <td>Palo Alto, CA</td>\n",
       "      <td>4.0</td>\n",
       "      <td>2021</td>\n",
       "      <td>(good, place, to, work, competitive, salary, good, benefits, lots, of, care, from, hr, during, pandemic, holiday, packages, office, supply, and, wellness, reimbursement, fast, paced, great, company, with, a, diverse, set, of, product, portfolios, for, you, to, find, the, thing, you, want, to, work, on, long, hours, working, with, china, at, night, are, totally, normal, advice, to, managementmore, trannsparancy)</td>\n",
       "      <td>[good, place, work, competitive, salary, good, benefits, lots, care, hr, pandemic, holiday, packages, office, supply, wellness, reimbursement, fast, paced, great, company, diverse, set, product, portfolios, find, thing, want, work, long, hours, working, china, night, totally, normal, advice, managementmore, trannsparancy]</td>\n",
       "      <td>[good, place, work, competitive, salary, good, benefit, lot, care, hr, pandemic, holiday, package, office, supply, wellness, reimbursement, fast, pace, great, company, diverse, set, product, portfolio, find, thing, want, work, long, hour, work, china, night, totally, normal, advice, managementmore, trannsparancy]</td>\n",
       "    </tr>\n",
       "    <tr>\n",
       "      <th>404</th>\n",
       "      <td>Project Manager</td>\n",
       "      <td>Palo Alto, CA</td>\n",
       "      <td>2.0</td>\n",
       "      <td>2021</td>\n",
       "      <td>(will, not, recommend, unless, desperate, for, visa, sponsorship, stable, paychecks, and, benefit, tencent, will, not, go, anywhere, in, years, poor, wlb, a, lot, of, political, games, culture, shocks, not, applicable, to, locals, but, for, visa, seekers, will, be, paid, heavily, under, market, especially, for, non, engineer, positions, all, the, issues, of, a, chinese, company, s, oversea, office, you, can, image, of)</td>\n",
       "      <td>[recommend, desperate, visa, sponsorship, stable, paychecks, benefit, tencent, years, poor, wlb, lot, political, games, culture, shocks, applicable, locals, visa, seekers, paid, heavily, market, especially, non, engineer, positions, issues, chinese, company, s, oversea, office, image]</td>\n",
       "      <td>[recommend, desperate, visa, sponsorship, stable, paycheck, benefit, tencent, year, poor, wlb, lot, political, game, culture, shock, applicable, local, visa, seeker, pay, heavily, market, especially, non, engineer, position, issue, chinese, company, s, oversea, office, image]</td>\n",
       "    </tr>\n",
       "    <tr>\n",
       "      <th>393</th>\n",
       "      <td>Bio Statistician</td>\n",
       "      <td>Columbus, OH</td>\n",
       "      <td>1.0</td>\n",
       "      <td>2021</td>\n",
       "      <td>(bonus, their, bonus, pretty, high, for, me, they, didn, t, pay, me, bonus)</td>\n",
       "      <td>[bonus, bonus, pretty, high, didn, t, pay, bonus]</td>\n",
       "      <td>[bonus, bonus, pretty, high, didn, t, pay, bonus]</td>\n",
       "    </tr>\n",
       "    <tr>\n",
       "      <th>8</th>\n",
       "      <td>Anonymous</td>\n",
       "      <td>Shenzhen, Guangdong</td>\n",
       "      <td>4.0</td>\n",
       "      <td>2022</td>\n",
       "      <td>(quite, decent, workplace, company, values, are, overall, quite, good, colleagues, overall, are, young, nice, and, energetic, people, still, new, to, its, internationalization)</td>\n",
       "      <td>[decent, workplace, company, values, overall, good, colleagues, overall, young, nice, energetic, people, new, internationalization]</td>\n",
       "      <td>[decent, workplace, company, value, overall, good, colleague, overall, young, nice, energetic, people, new, internationalization]</td>\n",
       "    </tr>\n",
       "    <tr>\n",
       "      <th>233</th>\n",
       "      <td>Anonymous</td>\n",
       "      <td>Shenzhen, Guangdong</td>\n",
       "      <td>5.0</td>\n",
       "      <td>2021</td>\n",
       "      <td>(good, good, experience, high, salary, excellent, team, work, hard, big, stress, noisy, environment)</td>\n",
       "      <td>[good, good, experience, high, salary, excellent, team, work, hard, big, stress, noisy, environment]</td>\n",
       "      <td>[good, good, experience, high, salary, excellent, team, work, hard, big, stress, noisy, environment]</td>\n",
       "    </tr>\n",
       "    <tr>\n",
       "      <th>488</th>\n",
       "      <td>Software Expert</td>\n",
       "      <td>Shenzhen, Guangdong</td>\n",
       "      <td>5.0</td>\n",
       "      <td>2020</td>\n",
       "      <td>(great, work, life, balance, great, work, life, balance, great, management, and, invest, team, slow, promotion, no, aggressive, tech, goal)</td>\n",
       "      <td>[great, work, life, balance, great, work, life, balance, great, management, invest, team, slow, promotion, aggressive, tech, goal]</td>\n",
       "      <td>[great, work, life, balance, great, work, life, balance, great, management, invest, team, slow, promotion, aggressive, tech, goal]</td>\n",
       "    </tr>\n",
       "    <tr>\n",
       "      <th>356</th>\n",
       "      <td>Software Engineer</td>\n",
       "      <td>Shenzhen, Guangdong</td>\n",
       "      <td>5.0</td>\n",
       "      <td>2021</td>\n",
       "      <td>(good, good, enough, less, spare, time, ok, soso, paid, not, too, much)</td>\n",
       "      <td>[good, good, spare, time, ok, soso, paid]</td>\n",
       "      <td>[good, good, spare, time, ok, soso, pay]</td>\n",
       "    </tr>\n",
       "  </tbody>\n",
       "</table>\n",
       "</div>"
      ],
      "text/plain": [
       "                  employee_title             location  rating_overall  \\\n",
       "31                     Anonymous  Shenzhen, Guangdong             5.0   \n",
       "464   Front End Senior Developer  Shenzhen, Guangdong             4.0   \n",
       "64                Data Scientist  Shenzhen, Guangdong             4.0   \n",
       "459   Senior Manager, Operations        Palo Alto, CA             4.0   \n",
       "404              Project Manager        Palo Alto, CA             2.0   \n",
       "393             Bio Statistician         Columbus, OH             1.0   \n",
       "8                      Anonymous  Shenzhen, Guangdong             4.0   \n",
       "233                    Anonymous  Shenzhen, Guangdong             5.0   \n",
       "488              Software Expert  Shenzhen, Guangdong             5.0   \n",
       "356            Software Engineer  Shenzhen, Guangdong             5.0   \n",
       "\n",
       "     review_year  \\\n",
       "31          2021   \n",
       "464         2021   \n",
       "64          2022   \n",
       "459         2021   \n",
       "404         2021   \n",
       "393         2021   \n",
       "8           2022   \n",
       "233         2021   \n",
       "488         2020   \n",
       "356         2021   \n",
       "\n",
       "                                                                                                                                                                                                                                                                                                                                                                                                                            title_pros_cons  \\\n",
       "31                                                                                                                                                                                                                                                                                                                                     (overall, great, place, to, work, with, good, culture, need, to, manage, a, lot, of, ad, hoc, tasks)   \n",
       "464                                                                                                                                                                                                                                                                                                                            (recommend, 1, rsu, benefit2, extra, medical, insurance3, above, average, salary, 1, wlb, is, not, so, good)   \n",
       "64                                                                                                                                                                                                                         (review, of, tencent, good, atmospheregood, benefits, and, salary, no, significant, cons, i, am, satisfiedttencent, responsethank, you, glad, to, hear, that, you, have, had, a, positive, experience, with, us)   \n",
       "459          (good, place, to, work, competitive, salary, good, benefits, lots, of, care, from, hr, during, pandemic, holiday, packages, office, supply, and, wellness, reimbursement, fast, paced, great, company, with, a, diverse, set, of, product, portfolios, for, you, to, find, the, thing, you, want, to, work, on, long, hours, working, with, china, at, night, are, totally, normal, advice, to, managementmore, trannsparancy)   \n",
       "404  (will, not, recommend, unless, desperate, for, visa, sponsorship, stable, paychecks, and, benefit, tencent, will, not, go, anywhere, in, years, poor, wlb, a, lot, of, political, games, culture, shocks, not, applicable, to, locals, but, for, visa, seekers, will, be, paid, heavily, under, market, especially, for, non, engineer, positions, all, the, issues, of, a, chinese, company, s, oversea, office, you, can, image, of)   \n",
       "393                                                                                                                                                                                                                                                                                                                                                             (bonus, their, bonus, pretty, high, for, me, they, didn, t, pay, me, bonus)   \n",
       "8                                                                                                                                                                                                                                                          (quite, decent, workplace, company, values, are, overall, quite, good, colleagues, overall, are, young, nice, and, energetic, people, still, new, to, its, internationalization)   \n",
       "233                                                                                                                                                                                                                                                                                                                                    (good, good, experience, high, salary, excellent, team, work, hard, big, stress, noisy, environment)   \n",
       "488                                                                                                                                                                                                                                                                                             (great, work, life, balance, great, work, life, balance, great, management, and, invest, team, slow, promotion, no, aggressive, tech, goal)   \n",
       "356                                                                                                                                                                                                                                                                                                                                                                 (good, good, enough, less, spare, time, ok, soso, paid, not, too, much)   \n",
       "\n",
       "                                                                                                                                                                                                                                                                                                                  title_pros_cons_nostop  \\\n",
       "31                                                                                                                                                                                                                                                       [overall, great, place, work, good, culture, need, manage, lot, ad, hoc, tasks]   \n",
       "464                                                                                                                                                                                                                                             [recommend, 1, rsu, benefit2, extra, medical, insurance3, average, salary, 1, wlb, good]   \n",
       "64                                                                                                                                                                                      [review, tencent, good, atmospheregood, benefits, salary, significant, cons, satisfiedttencent, responsethank, glad, hear, positive, experience]   \n",
       "459  [good, place, work, competitive, salary, good, benefits, lots, care, hr, pandemic, holiday, packages, office, supply, wellness, reimbursement, fast, paced, great, company, diverse, set, product, portfolios, find, thing, want, work, long, hours, working, china, night, totally, normal, advice, managementmore, trannsparancy]   \n",
       "404                                        [recommend, desperate, visa, sponsorship, stable, paychecks, benefit, tencent, years, poor, wlb, lot, political, games, culture, shocks, applicable, locals, visa, seekers, paid, heavily, market, especially, non, engineer, positions, issues, chinese, company, s, oversea, office, image]   \n",
       "393                                                                                                                                                                                                                                                                                    [bonus, bonus, pretty, high, didn, t, pay, bonus]   \n",
       "8                                                                                                                                                                                                    [decent, workplace, company, values, overall, good, colleagues, overall, young, nice, energetic, people, new, internationalization]   \n",
       "233                                                                                                                                                                                                                                 [good, good, experience, high, salary, excellent, team, work, hard, big, stress, noisy, environment]   \n",
       "488                                                                                                                                                                                                   [great, work, life, balance, great, work, life, balance, great, management, invest, team, slow, promotion, aggressive, tech, goal]   \n",
       "356                                                                                                                                                                                                                                                                                            [good, good, spare, time, ok, soso, paid]   \n",
       "\n",
       "                                                                                                                                                                                                                                                                                                                    after_lemma  \n",
       "31                                                                                                                                                                                                                                               [overall, great, place, work, good, culture, need, manage, lot, ad, hoc, task]  \n",
       "464                                                                                                                                                                                                                                    [recommend, 1, rsu, benefit2, extra, medical, insurance3, average, salary, 1, wlb, good]  \n",
       "64                                                                                                                                                                               [review, tencent, good, atmospheregood, benefit, salary, significant, con, satisfiedttencent, responsethank, glad, hear, positive, experience]  \n",
       "459  [good, place, work, competitive, salary, good, benefit, lot, care, hr, pandemic, holiday, package, office, supply, wellness, reimbursement, fast, pace, great, company, diverse, set, product, portfolio, find, thing, want, work, long, hour, work, china, night, totally, normal, advice, managementmore, trannsparancy]  \n",
       "404                                        [recommend, desperate, visa, sponsorship, stable, paycheck, benefit, tencent, year, poor, wlb, lot, political, game, culture, shock, applicable, local, visa, seeker, pay, heavily, market, especially, non, engineer, position, issue, chinese, company, s, oversea, office, image]  \n",
       "393                                                                                                                                                                                                                                                                           [bonus, bonus, pretty, high, didn, t, pay, bonus]  \n",
       "8                                                                                                                                                                                             [decent, workplace, company, value, overall, good, colleague, overall, young, nice, energetic, people, new, internationalization]  \n",
       "233                                                                                                                                                                                                                        [good, good, experience, high, salary, excellent, team, work, hard, big, stress, noisy, environment]  \n",
       "488                                                                                                                                                                                          [great, work, life, balance, great, work, life, balance, great, management, invest, team, slow, promotion, aggressive, tech, goal]  \n",
       "356                                                                                                                                                                                                                                                                                    [good, good, spare, time, ok, soso, pay]  "
      ]
     },
     "execution_count": 86,
     "metadata": {},
     "output_type": "execute_result"
    }
   ],
   "source": [
    "tencent_df.sample(10)"
   ]
  },
  {
   "cell_type": "markdown",
   "id": "af6a2515",
   "metadata": {},
   "source": [
    "## Exploratory Data Analysis\n",
    "### Ratings"
   ]
  },
  {
   "cell_type": "code",
   "execution_count": 25,
   "id": "a138bdcf",
   "metadata": {},
   "outputs": [
    {
     "data": {
      "text/plain": [
       "Text(0, 0.5, 'Number of Ratings')"
      ]
     },
     "execution_count": 25,
     "metadata": {},
     "output_type": "execute_result"
    },
    {
     "data": {
      "image/png": "[encoded data removed]",
      "text/plain": [
       "<Figure size 432x288 with 1 Axes>"
      ]
     },
     "metadata": {
      "needs_background": "light"
     },
     "output_type": "display_data"
    }
   ],
   "source": [
    "# looking ratings of the review\n",
    "\n",
    "tencent_df['rating_overall'].value_counts(normalize=True).sort_index(level='rating_overall', ascending=False).plot(kind='bar')\n",
    "plt.title('Tecent Ratings')\n",
    "plt.xlabel('Ratings')\n",
    "plt.ylabel('Number of Ratings')"
   ]
  },
  {
   "cell_type": "code",
   "execution_count": 26,
   "id": "c037cdf1",
   "metadata": {},
   "outputs": [
    {
     "data": {
      "text/plain": [
       "5.0    0.468\n",
       "4.0    0.338\n",
       "3.0    0.114\n",
       "2.0    0.038\n",
       "1.0    0.042\n",
       "Name: rating_overall, dtype: float64"
      ]
     },
     "execution_count": 26,
     "metadata": {},
     "output_type": "execute_result"
    }
   ],
   "source": [
    "# the distribution of 5.0 + 4.0 ratings\n",
    "tencent_df['rating_overall'].value_counts(normalize=True).sort_index(level='rating_overall', ascending=False)"
   ]
  },
  {
   "cell_type": "code",
   "execution_count": 27,
   "id": "50afcb64",
   "metadata": {
    "scrolled": true
   },
   "outputs": [
    {
     "data": {
      "text/plain": [
       "Text(0, 0.5, 'Number of Ratings')"
      ]
     },
     "execution_count": 27,
     "metadata": {},
     "output_type": "execute_result"
    },
    {
     "data": {
      "image/png": "[encoded data removed]",
      "text/plain": [
       "<Figure size 432x288 with 1 Axes>"
      ]
     },
     "metadata": {
      "needs_background": "light"
     },
     "output_type": "display_data"
    }
   ],
   "source": [
    "google_df['rating_overall'].value_counts(normalize=True).sort_index(level='rating_overall', ascending=False).plot(kind='bar')\n",
    "plt.title('Google Ratings')\n",
    "plt.xlabel('Ratings')\n",
    "plt.ylabel('Number of Ratings')"
   ]
  },
  {
   "cell_type": "code",
   "execution_count": 28,
   "id": "b8534d34",
   "metadata": {},
   "outputs": [
    {
     "data": {
      "text/plain": [
       "5.0    0.672\n",
       "4.0    0.208\n",
       "3.0    0.084\n",
       "2.0    0.012\n",
       "1.0    0.024\n",
       "Name: rating_overall, dtype: float64"
      ]
     },
     "execution_count": 28,
     "metadata": {},
     "output_type": "execute_result"
    }
   ],
   "source": [
    "google_df['rating_overall'].value_counts(normalize=True).sort_index(level='rating_overall', ascending=False)"
   ]
  },
  {
   "cell_type": "markdown",
   "id": "d64ea3d5",
   "metadata": {},
   "source": [
    "#### Google had a better rating score at 88% of score between 4 - 5 compared to Tencent at 80.6% of score between 4 - 5 "
   ]
  },
  {
   "cell_type": "markdown",
   "id": "1159e18b",
   "metadata": {},
   "source": [
    "###  Employee Title"
   ]
  },
  {
   "cell_type": "code",
   "execution_count": 29,
   "id": "3888b985",
   "metadata": {},
   "outputs": [
    {
     "data": {
      "text/plain": [
       "Text(0.5, 0, 'Count')"
      ]
     },
     "execution_count": 29,
     "metadata": {},
     "output_type": "execute_result"
    },
    {
     "data": {
      "image/png": "[encoded data removed]",
      "text/plain": [
       "<Figure size 432x288 with 1 Axes>"
      ]
     },
     "metadata": {
      "needs_background": "light"
     },
     "output_type": "display_data"
    }
   ],
   "source": [
    "# Tencent Employee Title\n",
    "tencent_df['employee_title'].value_counts().head(10).plot(kind='barh')\n",
    "plt.title('Top 10 Employee Title')\n",
    "plt.xlabel('Count')"
   ]
  },
  {
   "cell_type": "code",
   "execution_count": 30,
   "id": "40a7f935",
   "metadata": {},
   "outputs": [
    {
     "data": {
      "text/plain": [
       "Text(0.5, 0, 'Count')"
      ]
     },
     "execution_count": 30,
     "metadata": {},
     "output_type": "execute_result"
    },
    {
     "data": {
      "image/png": "[encoded data removed]",
      "text/plain": [
       "<Figure size 432x288 with 1 Axes>"
      ]
     },
     "metadata": {
      "needs_background": "light"
     },
     "output_type": "display_data"
    }
   ],
   "source": [
    "# Google Employee Title\n",
    "google_df['employee_title'].value_counts().head(10).plot(kind='barh')\n",
    "plt.title('Top 10 Employee Title')\n",
    "plt.xlabel('Count')"
   ]
  },
  {
   "cell_type": "markdown",
   "id": "f2ec08bb",
   "metadata": {},
   "source": [
    "### Location"
   ]
  },
  {
   "cell_type": "code",
   "execution_count": 31,
   "id": "e88f58fa",
   "metadata": {},
   "outputs": [
    {
     "data": {
      "text/plain": [
       "<AxesSubplot:>"
      ]
     },
     "execution_count": 31,
     "metadata": {},
     "output_type": "execute_result"
    },
    {
     "data": {
      "image/png": "[encoded data removed]",
      "text/plain": [
       "<Figure size 432x288 with 1 Axes>"
      ]
     },
     "metadata": {
      "needs_background": "light"
     },
     "output_type": "display_data"
    }
   ],
   "source": [
    "# tencent location\n",
    "tencent_df['location'].value_counts().head(10).plot(kind='barh')"
   ]
  },
  {
   "cell_type": "code",
   "execution_count": 32,
   "id": "76ce313a",
   "metadata": {},
   "outputs": [
    {
     "data": {
      "text/plain": [
       "<AxesSubplot:>"
      ]
     },
     "execution_count": 32,
     "metadata": {},
     "output_type": "execute_result"
    },
    {
     "data": {
      "image/png": "[encoded data removed]",
      "text/plain": [
       "<Figure size 432x288 with 1 Axes>"
      ]
     },
     "metadata": {
      "needs_background": "light"
     },
     "output_type": "display_data"
    }
   ],
   "source": [
    "# google location\n",
    "google_df['location'].value_counts().head(10).plot(kind='barh')"
   ]
  },
  {
   "cell_type": "markdown",
   "id": "289c9a25",
   "metadata": {},
   "source": [
    "### Year of written review"
   ]
  },
  {
   "cell_type": "code",
   "execution_count": 33,
   "id": "b7195ea2",
   "metadata": {},
   "outputs": [
    {
     "data": {
      "text/plain": [
       "Text(0.5, 1.0, 'Distribution of reviews over the years')"
      ]
     },
     "execution_count": 33,
     "metadata": {},
     "output_type": "execute_result"
    },
    {
     "data": {
      "image/png": "[encoded data removed]",
      "text/plain": [
       "<Figure size 432x288 with 1 Axes>"
      ]
     },
     "metadata": {
      "needs_background": "light"
     },
     "output_type": "display_data"
    }
   ],
   "source": [
    "# written reviews over the years (tencent)\n",
    "tencent_df['review_year'].value_counts().sort_index(level='review_year', ascending=False).plot(kind='bar')\n",
    "plt.xlabel('Year')\n",
    "plt.ylabel('Count')\n",
    "plt.title('Distribution of reviews over the years')"
   ]
  },
  {
   "cell_type": "code",
   "execution_count": 34,
   "id": "39f8a254",
   "metadata": {},
   "outputs": [
    {
     "data": {
      "text/plain": [
       "Text(0.5, 1.0, 'Distribution of reviews over the years')"
      ]
     },
     "execution_count": 34,
     "metadata": {},
     "output_type": "execute_result"
    },
    {
     "data": {
      "image/png": "[encoded data removed]",
      "text/plain": [
       "<Figure size 432x288 with 1 Axes>"
      ]
     },
     "metadata": {
      "needs_background": "light"
     },
     "output_type": "display_data"
    }
   ],
   "source": [
    "# written reviews over the years (google)\n",
    "google_df['review_year'].value_counts().sort_index(level='review_year', ascending=False).plot(kind='bar')\n",
    "plt.xlabel('Year')\n",
    "plt.ylabel('Count')\n",
    "plt.title('Distribution of reviews over the years')"
   ]
  },
  {
   "cell_type": "markdown",
   "id": "0689dbcc",
   "metadata": {},
   "source": [
    "#### Google started having reviews earlier than Tencent understandably as it is a English platform. Tencent only started their presence in 2016, 3 years later than Google. "
   ]
  },
  {
   "cell_type": "markdown",
   "id": "c6f2489e",
   "metadata": {},
   "source": [
    "# Pre-processing part 2\n",
    "## Cleaning the text of unecessary words or symbols, lower case all the words"
   ]
  },
  {
   "cell_type": "code",
   "execution_count": 35,
   "id": "51142548",
   "metadata": {},
   "outputs": [],
   "source": [
    "# helper function to clean the data for \n",
    "\n",
    "def clean_text(text):\n",
    "    # remove the text that is not part of the actual comments\n",
    "    pattern1 = re.compile(r'\\nBe\\sthe\\sfirst.+')\n",
    "    text = pattern1.sub(r'',text)\n",
    "    pattern2 = re.compile(r'\\d\\speople\\sfound\\sthis.+')\n",
    "    text = pattern2.sub(r'',text)\n",
    "    pattern3 = re.compile(r'\\d\\sperson\\sfound.+')\n",
    "    text = pattern3.sub(r'',text)\n",
    "    pattern4 = re.compile(r'\\nHelpful\\nShare\\nRepor')\n",
    "    text = pattern4.sub(r'',text)\n",
    "    \n",
    "    # remove \"/n\"\n",
    "    pattern5 = re.compile(r'\\n')\n",
    "    text = pattern5.sub(r'',text)\n",
    "    # remove irrelevant character such as numbers and punctuation\n",
    "    pattern6 = re.compile(r'[^a-zA-Z0-9]')\n",
    "    text = pattern6.sub(r' ',text)\n",
    "    # remove extra whitespaces\n",
    "    pattern7= re.compile(r'^\\s*|\\s\\s*')\n",
    "    text = pattern7.sub(r' ', text).strip()\n",
    "    # text to all lower case\n",
    "    text = text.lower()\n",
    "    \n",
    "    return text"
   ]
  },
  {
   "cell_type": "code",
   "execution_count": 36,
   "id": "233fa4c1",
   "metadata": {},
   "outputs": [],
   "source": [
    "# running the helper function to clean both google and tencent dataset\n",
    "\n",
    "tencent_df['title_pros_cons'] = tencent_df['title_pros_cons'].map(lambda x: clean_text(str(x)))\n",
    "google_df['title_pros_cons'] = google_df['title_pros_cons'].map(lambda x: clean_text(str(x)))"
   ]
  },
  {
   "cell_type": "code",
   "execution_count": 73,
   "id": "f71cedee",
   "metadata": {
    "scrolled": true
   },
   "outputs": [
    {
     "data": {
      "text/html": [
       "<div>\n",
       "<style scoped>\n",
       "    .dataframe tbody tr th:only-of-type {\n",
       "        vertical-align: middle;\n",
       "    }\n",
       "\n",
       "    .dataframe tbody tr th {\n",
       "        vertical-align: top;\n",
       "    }\n",
       "\n",
       "    .dataframe thead th {\n",
       "        text-align: right;\n",
       "    }\n",
       "</style>\n",
       "<table border=\"1\" class=\"dataframe\">\n",
       "  <thead>\n",
       "    <tr style=\"text-align: right;\">\n",
       "      <th></th>\n",
       "      <th>employee_title</th>\n",
       "      <th>location</th>\n",
       "      <th>rating_overall</th>\n",
       "      <th>review_year</th>\n",
       "      <th>title_pros_cons</th>\n",
       "      <th>title_pros_cons_nostop</th>\n",
       "      <th>after_lemma</th>\n",
       "    </tr>\n",
       "  </thead>\n",
       "  <tbody>\n",
       "    <tr>\n",
       "      <th>214</th>\n",
       "      <td>Team Leader</td>\n",
       "      <td>Shenzhen, Guangdong</td>\n",
       "      <td>5.0</td>\n",
       "      <td>2021</td>\n",
       "      <td>(great, place, to, work, the, workplace, is, great, people, are, nice, some, of, the, managers, are, not, very, professional)</td>\n",
       "      <td>[great, place, work, workplace, great, people, nice, managers, professional]</td>\n",
       "      <td>[great, place, work, workplace, great, people, nice, manager, professional]</td>\n",
       "    </tr>\n",
       "    <tr>\n",
       "      <th>422</th>\n",
       "      <td>Software Engineer</td>\n",
       "      <td>Shenzhen, Guangdong</td>\n",
       "      <td>5.0</td>\n",
       "      <td>2021</td>\n",
       "      <td>(no, no, no, no, no, no, salary, is, low, salary, is, low, salary, is, low)</td>\n",
       "      <td>[salary, low, salary, low, salary, low]</td>\n",
       "      <td>[salary, low, salary, low, salary, low]</td>\n",
       "    </tr>\n",
       "    <tr>\n",
       "      <th>174</th>\n",
       "      <td>Intern</td>\n",
       "      <td>China, ME</td>\n",
       "      <td>5.0</td>\n",
       "      <td>2022</td>\n",
       "      <td>(intern, good, work, with, good, people, and, ceo, none, not, alot, of, cons, to, be, honest, ttencent, responsethanks, glad, to, hear, you, had, a, good, experience, with, us)</td>\n",
       "      <td>[intern, good, work, good, people, ceo, alot, cons, honest, ttencent, responsethanks, glad, hear, good, experience]</td>\n",
       "      <td>[intern, good, work, good, people, ceo, alot, con, honest, ttencent, responsethank, glad, hear, good, experience]</td>\n",
       "    </tr>\n",
       "    <tr>\n",
       "      <th>256</th>\n",
       "      <td>Software Developer</td>\n",
       "      <td>Burnaby, BC</td>\n",
       "      <td>5.0</td>\n",
       "      <td>2021</td>\n",
       "      <td>(top, 2, 1, the, system, is, more, humane2, high, industry, recognition3, friendly, working, atmosphere, difficulties, in, inter, departmental, cooperationfactional, cultureadvice, to, managementgrasp, the, business, directionwage, increaseissue, stock)</td>\n",
       "      <td>[2, 1, system, humane2, high, industry, recognition3, friendly, working, atmosphere, difficulties, inter, departmental, cooperationfactional, cultureadvice, managementgrasp, business, directionwage, increaseissue, stock]</td>\n",
       "      <td>[2, 1, system, humane2, high, industry, recognition3, friendly, work, atmosphere, difficulty, inter, departmental, cooperationfactional, cultureadvice, managementgrasp, business, directionwage, increaseissue, stock]</td>\n",
       "    </tr>\n",
       "    <tr>\n",
       "      <th>13</th>\n",
       "      <td>Software Engineer</td>\n",
       "      <td>Shenzhen, Guangdong</td>\n",
       "      <td>5.0</td>\n",
       "      <td>2022</td>\n",
       "      <td>(good, goodgoodgoodgoodgoodgoodgoodgoodfriendly, friendlyfriendly, friendlyfriendlyhigh, salaryhigh, bonus, nothingnothing, anothing, b, nothing, cnothing, dnothing, e)</td>\n",
       "      <td>[good, goodgoodgoodgoodgoodgoodgoodgoodfriendly, friendlyfriendly, friendlyfriendlyhigh, salaryhigh, bonus, nothingnothing, anothing, b, cnothing, dnothing, e]</td>\n",
       "      <td>[good, goodgoodgoodgoodgoodgoodgoodgoodfriendly, friendlyfriendly, friendlyfriendlyhigh, salaryhigh, bonus, nothingnothe, anothe, b, cnothe, dnothe, e]</td>\n",
       "    </tr>\n",
       "    <tr>\n",
       "      <th>359</th>\n",
       "      <td>Game Designer</td>\n",
       "      <td>Beijing, Beijing</td>\n",
       "      <td>5.0</td>\n",
       "      <td>2021</td>\n",
       "      <td>(good, food, a, lot, of, games, long, working, hours, female, and, male, unbalanced)</td>\n",
       "      <td>[good, food, lot, games, long, working, hours, female, male, unbalanced]</td>\n",
       "      <td>[good, food, lot, game, long, work, hour, female, male, unbalanced]</td>\n",
       "    </tr>\n",
       "    <tr>\n",
       "      <th>236</th>\n",
       "      <td>Business Analyst</td>\n",
       "      <td>Shenzhen, Guangdong</td>\n",
       "      <td>5.0</td>\n",
       "      <td>2021</td>\n",
       "      <td>(business, analyst, very, cool, and, well, balanced, very, hard, to, enter, tbh)</td>\n",
       "      <td>[business, analyst, cool, balanced, hard, enter, tbh]</td>\n",
       "      <td>[business, analyst, cool, balance, hard, enter, tbh]</td>\n",
       "    </tr>\n",
       "    <tr>\n",
       "      <th>118</th>\n",
       "      <td>Director</td>\n",
       "      <td>Hong Kong</td>\n",
       "      <td>1.0</td>\n",
       "      <td>2022</td>\n",
       "      <td>(good, for, cv, but, really, underdeveloped, company, headquarters, with, canteen, and, entertainment, looks, fancy, good, perks, and, benefits, top, down, boss, pleasing, culture, no, clear, kpi, a, lot, of, idle, people, taking, credits, for, others, work, internal, competition, unclear, job, scope, no, work, life, balanceadvice, to, managementdefine, roles, before, hiring, look, at, people, s, capability, make, data, driven, decisions)</td>\n",
       "      <td>[good, cv, underdeveloped, company, headquarters, canteen, entertainment, looks, fancy, good, perks, benefits, boss, pleasing, culture, clear, kpi, lot, idle, people, taking, credits, work, internal, competition, unclear, job, scope, work, life, balanceadvice, managementdefine, roles, hiring, look, people, s, capability, data, driven, decisions]</td>\n",
       "      <td>[good, cv, underdeveloped, company, headquarters, canteen, entertainment, look, fancy, good, perk, benefit, boss, pleasing, culture, clear, kpi, lot, idle, people, take, credit, work, internal, competition, unclear, job, scope, work, life, balanceadvice, managementdefine, role, hire, look, people, s, capability, datum, drive, decision]</td>\n",
       "    </tr>\n",
       "    <tr>\n",
       "      <th>272</th>\n",
       "      <td>Student</td>\n",
       "      <td>Shenzhen, Guangdong</td>\n",
       "      <td>4.0</td>\n",
       "      <td>2021</td>\n",
       "      <td>(nice, big, platform, nice, for, new, people, too, many, employees, hard, to, manage)</td>\n",
       "      <td>[nice, big, platform, nice, new, people, employees, hard, manage]</td>\n",
       "      <td>[nice, big, platform, nice, new, people, employee, hard, manage]</td>\n",
       "    </tr>\n",
       "    <tr>\n",
       "      <th>306</th>\n",
       "      <td>Product Manager Intern</td>\n",
       "      <td>Shenzhen, Guangdong</td>\n",
       "      <td>5.0</td>\n",
       "      <td>2021</td>\n",
       "      <td>(the, company, atmosphere, is, good, no, push, but, tired, 10, 10, 5, salary, is, high, with, good, benefits, too, tired, 10, 10, 5, the, content, of, job, is, non, technical)</td>\n",
       "      <td>[company, atmosphere, good, push, tired, 10, 10, 5, salary, high, good, benefits, tired, 10, 10, 5, content, job, non, technical]</td>\n",
       "      <td>[company, atmosphere, good, push, tired, 10, 10, 5, salary, high, good, benefit, tired, 10, 10, 5, content, job, non, technical]</td>\n",
       "    </tr>\n",
       "  </tbody>\n",
       "</table>\n",
       "</div>"
      ],
      "text/plain": [
       "              employee_title             location  rating_overall  \\\n",
       "214              Team Leader  Shenzhen, Guangdong             5.0   \n",
       "422        Software Engineer  Shenzhen, Guangdong             5.0   \n",
       "174                   Intern            China, ME             5.0   \n",
       "256       Software Developer          Burnaby, BC             5.0   \n",
       "13         Software Engineer  Shenzhen, Guangdong             5.0   \n",
       "359            Game Designer     Beijing, Beijing             5.0   \n",
       "236         Business Analyst  Shenzhen, Guangdong             5.0   \n",
       "118                 Director            Hong Kong             1.0   \n",
       "272                  Student  Shenzhen, Guangdong             4.0   \n",
       "306   Product Manager Intern  Shenzhen, Guangdong             5.0   \n",
       "\n",
       "     review_year  \\\n",
       "214         2021   \n",
       "422         2021   \n",
       "174         2022   \n",
       "256         2021   \n",
       "13          2022   \n",
       "359         2021   \n",
       "236         2021   \n",
       "118         2022   \n",
       "272         2021   \n",
       "306         2021   \n",
       "\n",
       "                                                                                                                                                                                                                                                                                                                                                                                                                                                title_pros_cons  \\\n",
       "214                                                                                                                                                                                                                                                                                                                               (great, place, to, work, the, workplace, is, great, people, are, nice, some, of, the, managers, are, not, very, professional)   \n",
       "422                                                                                                                                                                                                                                                                                                                                                                                 (no, no, no, no, no, no, salary, is, low, salary, is, low, salary, is, low)   \n",
       "174                                                                                                                                                                                                                                                                            (intern, good, work, with, good, people, and, ceo, none, not, alot, of, cons, to, be, honest, ttencent, responsethanks, glad, to, hear, you, had, a, good, experience, with, us)   \n",
       "256                                                                                                                                                                                               (top, 2, 1, the, system, is, more, humane2, high, industry, recognition3, friendly, working, atmosphere, difficulties, in, inter, departmental, cooperationfactional, cultureadvice, to, managementgrasp, the, business, directionwage, increaseissue, stock)   \n",
       "13                                                                                                                                                                                                                                                                                     (good, goodgoodgoodgoodgoodgoodgoodgoodfriendly, friendlyfriendly, friendlyfriendlyhigh, salaryhigh, bonus, nothingnothing, anothing, b, nothing, cnothing, dnothing, e)   \n",
       "359                                                                                                                                                                                                                                                                                                                                                                        (good, food, a, lot, of, games, long, working, hours, female, and, male, unbalanced)   \n",
       "236                                                                                                                                                                                                                                                                                                                                                                            (business, analyst, very, cool, and, well, balanced, very, hard, to, enter, tbh)   \n",
       "118  (good, for, cv, but, really, underdeveloped, company, headquarters, with, canteen, and, entertainment, looks, fancy, good, perks, and, benefits, top, down, boss, pleasing, culture, no, clear, kpi, a, lot, of, idle, people, taking, credits, for, others, work, internal, competition, unclear, job, scope, no, work, life, balanceadvice, to, managementdefine, roles, before, hiring, look, at, people, s, capability, make, data, driven, decisions)   \n",
       "272                                                                                                                                                                                                                                                                                                                                                                       (nice, big, platform, nice, for, new, people, too, many, employees, hard, to, manage)   \n",
       "306                                                                                                                                                                                                                                                                             (the, company, atmosphere, is, good, no, push, but, tired, 10, 10, 5, salary, is, high, with, good, benefits, too, tired, 10, 10, 5, the, content, of, job, is, non, technical)   \n",
       "\n",
       "                                                                                                                                                                                                                                                                                                                                          title_pros_cons_nostop  \\\n",
       "214                                                                                                                                                                                                                                                                                 [great, place, work, workplace, great, people, nice, managers, professional]   \n",
       "422                                                                                                                                                                                                                                                                                                                      [salary, low, salary, low, salary, low]   \n",
       "174                                                                                                                                                                                                                                          [intern, good, work, good, people, ceo, alot, cons, honest, ttencent, responsethanks, glad, hear, good, experience]   \n",
       "256                                                                                                                                 [2, 1, system, humane2, high, industry, recognition3, friendly, working, atmosphere, difficulties, inter, departmental, cooperationfactional, cultureadvice, managementgrasp, business, directionwage, increaseissue, stock]   \n",
       "13                                                                                                                                                                                               [good, goodgoodgoodgoodgoodgoodgoodgoodfriendly, friendlyfriendly, friendlyfriendlyhigh, salaryhigh, bonus, nothingnothing, anothing, b, cnothing, dnothing, e]   \n",
       "359                                                                                                                                                                                                                                                                                     [good, food, lot, games, long, working, hours, female, male, unbalanced]   \n",
       "236                                                                                                                                                                                                                                                                                                        [business, analyst, cool, balanced, hard, enter, tbh]   \n",
       "118  [good, cv, underdeveloped, company, headquarters, canteen, entertainment, looks, fancy, good, perks, benefits, boss, pleasing, culture, clear, kpi, lot, idle, people, taking, credits, work, internal, competition, unclear, job, scope, work, life, balanceadvice, managementdefine, roles, hiring, look, people, s, capability, data, driven, decisions]   \n",
       "272                                                                                                                                                                                                                                                                                            [nice, big, platform, nice, new, people, employees, hard, manage]   \n",
       "306                                                                                                                                                                                                                            [company, atmosphere, good, push, tired, 10, 10, 5, salary, high, good, benefits, tired, 10, 10, 5, content, job, non, technical]   \n",
       "\n",
       "                                                                                                                                                                                                                                                                                                                                           after_lemma  \n",
       "214                                                                                                                                                                                                                                                                        [great, place, work, workplace, great, people, nice, manager, professional]  \n",
       "422                                                                                                                                                                                                                                                                                                            [salary, low, salary, low, salary, low]  \n",
       "174                                                                                                                                                                                                                                  [intern, good, work, good, people, ceo, alot, con, honest, ttencent, responsethank, glad, hear, good, experience]  \n",
       "256                                                                                                                            [2, 1, system, humane2, high, industry, recognition3, friendly, work, atmosphere, difficulty, inter, departmental, cooperationfactional, cultureadvice, managementgrasp, business, directionwage, increaseissue, stock]  \n",
       "13                                                                                                                                                                                             [good, goodgoodgoodgoodgoodgoodgoodgoodfriendly, friendlyfriendly, friendlyfriendlyhigh, salaryhigh, bonus, nothingnothe, anothe, b, cnothe, dnothe, e]  \n",
       "359                                                                                                                                                                                                                                                                                [good, food, lot, game, long, work, hour, female, male, unbalanced]  \n",
       "236                                                                                                                                                                                                                                                                                               [business, analyst, cool, balance, hard, enter, tbh]  \n",
       "118  [good, cv, underdeveloped, company, headquarters, canteen, entertainment, look, fancy, good, perk, benefit, boss, pleasing, culture, clear, kpi, lot, idle, people, take, credit, work, internal, competition, unclear, job, scope, work, life, balanceadvice, managementdefine, role, hire, look, people, s, capability, datum, drive, decision]  \n",
       "272                                                                                                                                                                                                                                                                                   [nice, big, platform, nice, new, people, employee, hard, manage]  \n",
       "306                                                                                                                                                                                                                   [company, atmosphere, good, push, tired, 10, 10, 5, salary, high, good, benefit, tired, 10, 10, 5, content, job, non, technical]  "
      ]
     },
     "execution_count": 73,
     "metadata": {},
     "output_type": "execute_result"
    }
   ],
   "source": [
    "tencent_df.sample(10)"
   ]
  },
  {
   "cell_type": "code",
   "execution_count": 75,
   "id": "f82ab234",
   "metadata": {
    "scrolled": true
   },
   "outputs": [
    {
     "data": {
      "text/html": [
       "<div>\n",
       "<style scoped>\n",
       "    .dataframe tbody tr th:only-of-type {\n",
       "        vertical-align: middle;\n",
       "    }\n",
       "\n",
       "    .dataframe tbody tr th {\n",
       "        vertical-align: top;\n",
       "    }\n",
       "\n",
       "    .dataframe thead th {\n",
       "        text-align: right;\n",
       "    }\n",
       "</style>\n",
       "<table border=\"1\" class=\"dataframe\">\n",
       "  <thead>\n",
       "    <tr style=\"text-align: right;\">\n",
       "      <th></th>\n",
       "      <th>employee_title</th>\n",
       "      <th>location</th>\n",
       "      <th>rating_overall</th>\n",
       "      <th>review_year</th>\n",
       "      <th>title_pros_cons</th>\n",
       "      <th>title_pros_cons_nostop</th>\n",
       "      <th>after_lemma</th>\n",
       "    </tr>\n",
       "  </thead>\n",
       "  <tbody>\n",
       "    <tr>\n",
       "      <th>146</th>\n",
       "      <td>Anonymous</td>\n",
       "      <td>Singapore</td>\n",
       "      <td>4.0</td>\n",
       "      <td>2021</td>\n",
       "      <td>(google, sg, bright, people, opportunity, to, innovate, and, work, on, projects, you, are, passionate, about, too, many, bright, people, perf, can, be, a, blood, sport, distributed, site)</td>\n",
       "      <td>[google, sg, bright, people, opportunity, innovate, work, projects, passionate, bright, people, perf, blood, sport, distributed, site]</td>\n",
       "      <td>[google, sg, bright, people, opportunity, innovate, work, project, passionate, bright, people, perf, blood, sport, distribute, site]</td>\n",
       "    </tr>\n",
       "    <tr>\n",
       "      <th>204</th>\n",
       "      <td>Regional Client Lead</td>\n",
       "      <td>Singapore</td>\n",
       "      <td>4.0</td>\n",
       "      <td>2021</td>\n",
       "      <td>(good, company, but, not, dreamland, great, benefit, possibility, of, advancement, management, and, directors, are, completely, shielded, from, any, negative, comments, by, the, hr, department, and, it, is, a, highly, political, organization)</td>\n",
       "      <td>[good, company, dreamland, great, benefit, possibility, advancement, management, directors, completely, shielded, negative, comments, hr, department, highly, political, organization]</td>\n",
       "      <td>[good, company, dreamland, great, benefit, possibility, advancement, management, director, completely, shield, negative, comment, hr, department, highly, political, organization]</td>\n",
       "    </tr>\n",
       "    <tr>\n",
       "      <th>9</th>\n",
       "      <td>Account Manager</td>\n",
       "      <td>Singapore</td>\n",
       "      <td>5.0</td>\n",
       "      <td>2022</td>\n",
       "      <td>(great, working, environment, fun, to, work, with, anyone, too, much, info, need, to, pick, and, choose)</td>\n",
       "      <td>[great, working, environment, fun, work, info, need, pick, choose]</td>\n",
       "      <td>[great, working, environment, fun, work, info, need, pick, choose]</td>\n",
       "    </tr>\n",
       "    <tr>\n",
       "      <th>129</th>\n",
       "      <td>Program Manager</td>\n",
       "      <td>Singapore</td>\n",
       "      <td>5.0</td>\n",
       "      <td>2021</td>\n",
       "      <td>(great, place, to, work, for, great, company, no, issues, no, issues, its, a, great, company, to, work, for)</td>\n",
       "      <td>[great, place, work, great, company, issues, issues, great, company, work]</td>\n",
       "      <td>[great, place, work, great, company, issue, issue, great, company, work]</td>\n",
       "    </tr>\n",
       "    <tr>\n",
       "      <th>490</th>\n",
       "      <td>Software Engineer</td>\n",
       "      <td>Singapore</td>\n",
       "      <td>5.0</td>\n",
       "      <td>2022</td>\n",
       "      <td>(still, an, amazing, place, to, work, beware, of, entitlement, 1, great, work, life, balance, there, s, not, many, companies, i, know, that, have, a, consistent, a, 40hr, work, week, and, pay, top, salary, 2, cool, projects, to, work, on, good, balance, between, research, development, see, caveats, below, though, 3, supportive, healthy, psychologically, safe, work, environment, google, cares, a, ton, about, how, we, work, and, how, we, work, together, the, bottom, up, culture, also, means, that, we, have, a, lot, of, self, determination, and, don, t, feel, like, we, re, at, the, mercy, of, our, management, 4, super, easy, internal, mobility, ...)</td>\n",
       "      <td>[amazing, place, work, beware, entitlement, 1, great, work, life, balance, s, companies, know, consistent, 40hr, work, week, pay, salary, 2, cool, projects, work, good, balance, research, development, caveats, 3, supportive, healthy, psychologically, safe, work, environment, google, cares, ton, work, work, culture, means, lot, self, determination, don, t, feel, like, mercy, management, 4, super, easy, internal, mobility, lots, change, teams, couple, years, google, different, types, work, won, t, feel, stuck, long, like, working, google, overall, ll, able, find, interesting, 5, s, google, having, google, resume, opens, doors, opportunities, s, great, networking, generally, colleagues, field, 1, entitlement, literally, 5x, dreamt, comp, insane, ...]</td>\n",
       "      <td>[amazing, place, work, beware, entitlement, 1, great, work, life, balance, s, company, know, consistent, 40hr, work, week, pay, salary, 2, cool, project, work, good, balance, research, development, caveat, 3, supportive, healthy, psychologically, safe, work, environment, google, care, ton, work, work, culture, mean, lot, self, determination, don, t, feel, like, mercy, management, 4, super, easy, internal, mobility, lot, change, team, couple, year, google, different, type, work, win, t, feel, stick, long, like, work, google, overall, ll, able, find, interesting, 5, s, google, have, google, resume, open, door, opportunity, s, great, network, generally, colleague, field, 1, entitlement, literally, 5x, dream, comp, insane, ...]</td>\n",
       "    </tr>\n",
       "    <tr>\n",
       "      <th>94</th>\n",
       "      <td>Anonymous</td>\n",
       "      <td>Singapore</td>\n",
       "      <td>5.0</td>\n",
       "      <td>2021</td>\n",
       "      <td>(good, place, for, career, growth, good, benefits, great, culture, working, with, a, bunch, of, motivated, people, it, s, very, competitive, and, takes, time, to, be, promoted)</td>\n",
       "      <td>[good, place, career, growth, good, benefits, great, culture, working, bunch, motivated, people, s, competitive, takes, time, promoted]</td>\n",
       "      <td>[good, place, career, growth, good, benefit, great, culture, work, bunch, motivated, people, s, competitive, take, time, promote]</td>\n",
       "    </tr>\n",
       "    <tr>\n",
       "      <th>200</th>\n",
       "      <td>Anonymous</td>\n",
       "      <td>Singapore</td>\n",
       "      <td>5.0</td>\n",
       "      <td>2021</td>\n",
       "      <td>(good, really, good, compensation, and, benefits, nothing, much, to, talk, about)</td>\n",
       "      <td>[good, good, compensation, benefits, talk]</td>\n",
       "      <td>[good, good, compensation, benefit, talk]</td>\n",
       "    </tr>\n",
       "    <tr>\n",
       "      <th>461</th>\n",
       "      <td>Software Developer</td>\n",
       "      <td>Bangalore</td>\n",
       "      <td>5.0</td>\n",
       "      <td>2022</td>\n",
       "      <td>(sde, everything, is, good, in, terms, of, work, no, cons, at, all, with, workadvice, to, managementnone)</td>\n",
       "      <td>[sde, good, terms, work, cons, workadvice, managementnone]</td>\n",
       "      <td>[sde, good, term, work, con, workadvice, managementnone]</td>\n",
       "    </tr>\n",
       "    <tr>\n",
       "      <th>194</th>\n",
       "      <td>Strategy</td>\n",
       "      <td>Singapore</td>\n",
       "      <td>5.0</td>\n",
       "      <td>2021</td>\n",
       "      <td>(very, great, working, environment, companies, care, about, the, staff, a, lot, nothing, specific, at, the, moment)</td>\n",
       "      <td>[great, working, environment, companies, care, staff, lot, specific, moment]</td>\n",
       "      <td>[great, working, environment, company, care, staff, lot, specific, moment]</td>\n",
       "    </tr>\n",
       "    <tr>\n",
       "      <th>153</th>\n",
       "      <td>Senior Account Manager</td>\n",
       "      <td>Singapore</td>\n",
       "      <td>4.0</td>\n",
       "      <td>2021</td>\n",
       "      <td>(good, place, to, work, highly, competitive, environment, office, perks, health, insurance, inclusivity, good, compensation, high, pressure, high, expectation, from, leadership, highly, competitiveadvice, to, managementn, a)</td>\n",
       "      <td>[good, place, work, highly, competitive, environment, office, perks, health, insurance, inclusivity, good, compensation, high, pressure, high, expectation, leadership, highly, competitiveadvice, managementn]</td>\n",
       "      <td>[good, place, work, highly, competitive, environment, office, perk, health, insurance, inclusivity, good, compensation, high, pressure, high, expectation, leadership, highly, competitiveadvice, managementn]</td>\n",
       "    </tr>\n",
       "  </tbody>\n",
       "</table>\n",
       "</div>"
      ],
      "text/plain": [
       "              employee_title   location  rating_overall  review_year  \\\n",
       "146                Anonymous  Singapore             4.0         2021   \n",
       "204     Regional Client Lead  Singapore             4.0         2021   \n",
       "9            Account Manager  Singapore             5.0         2022   \n",
       "129          Program Manager  Singapore             5.0         2021   \n",
       "490        Software Engineer  Singapore             5.0         2022   \n",
       "94                 Anonymous  Singapore             5.0         2021   \n",
       "200                Anonymous  Singapore             5.0         2021   \n",
       "461       Software Developer  Bangalore             5.0         2022   \n",
       "194                 Strategy  Singapore             5.0         2021   \n",
       "153   Senior Account Manager  Singapore             4.0         2021   \n",
       "\n",
       "                                                                                                                                                                                                                                                                                                                                                                                                                                                                                                                                                                                                                                                                    title_pros_cons  \\\n",
       "146                                                                                                                                                                                                                                                                                                                                                                                                                                                                                     (google, sg, bright, people, opportunity, to, innovate, and, work, on, projects, you, are, passionate, about, too, many, bright, people, perf, can, be, a, blood, sport, distributed, site)   \n",
       "204                                                                                                                                                                                                                                                                                                                                                                                                                              (good, company, but, not, dreamland, great, benefit, possibility, of, advancement, management, and, directors, are, completely, shielded, from, any, negative, comments, by, the, hr, department, and, it, is, a, highly, political, organization)   \n",
       "9                                                                                                                                                                                                                                                                                                                                                                                                                                                                                                                                                                          (great, working, environment, fun, to, work, with, anyone, too, much, info, need, to, pick, and, choose)   \n",
       "129                                                                                                                                                                                                                                                                                                                                                                                                                                                                                                                                                                    (great, place, to, work, for, great, company, no, issues, no, issues, its, a, great, company, to, work, for)   \n",
       "490  (still, an, amazing, place, to, work, beware, of, entitlement, 1, great, work, life, balance, there, s, not, many, companies, i, know, that, have, a, consistent, a, 40hr, work, week, and, pay, top, salary, 2, cool, projects, to, work, on, good, balance, between, research, development, see, caveats, below, though, 3, supportive, healthy, psychologically, safe, work, environment, google, cares, a, ton, about, how, we, work, and, how, we, work, together, the, bottom, up, culture, also, means, that, we, have, a, lot, of, self, determination, and, don, t, feel, like, we, re, at, the, mercy, of, our, management, 4, super, easy, internal, mobility, ...)   \n",
       "94                                                                                                                                                                                                                                                                                                                                                                                                                                                                                                 (good, place, for, career, growth, good, benefits, great, culture, working, with, a, bunch, of, motivated, people, it, s, very, competitive, and, takes, time, to, be, promoted)   \n",
       "200                                                                                                                                                                                                                                                                                                                                                                                                                                                                                                                                                                                               (good, really, good, compensation, and, benefits, nothing, much, to, talk, about)   \n",
       "461                                                                                                                                                                                                                                                                                                                                                                                                                                                                                                                                                                       (sde, everything, is, good, in, terms, of, work, no, cons, at, all, with, workadvice, to, managementnone)   \n",
       "194                                                                                                                                                                                                                                                                                                                                                                                                                                                                                                                                                             (very, great, working, environment, companies, care, about, the, staff, a, lot, nothing, specific, at, the, moment)   \n",
       "153                                                                                                                                                                                                                                                                                                                                                                                                                                                (good, place, to, work, highly, competitive, environment, office, perks, health, insurance, inclusivity, good, compensation, high, pressure, high, expectation, from, leadership, highly, competitiveadvice, to, managementn, a)   \n",
       "\n",
       "                                                                                                                                                                                                                                                                                                                                                                                                                                                                                                                                                                                                                                                                                                                                                                    title_pros_cons_nostop  \\\n",
       "146                                                                                                                                                                                                                                                                                                                                                                                                                                                                                                                                                                                                                                                 [google, sg, bright, people, opportunity, innovate, work, projects, passionate, bright, people, perf, blood, sport, distributed, site]   \n",
       "204                                                                                                                                                                                                                                                                                                                                                                                                                                                                                                                                                                                                 [good, company, dreamland, great, benefit, possibility, advancement, management, directors, completely, shielded, negative, comments, hr, department, highly, political, organization]   \n",
       "9                                                                                                                                                                                                                                                                                                                                                                                                                                                                                                                                                                                                                                                                                                                       [great, working, environment, fun, work, info, need, pick, choose]   \n",
       "129                                                                                                                                                                                                                                                                                                                                                                                                                                                                                                                                                                                                                                                                                                             [great, place, work, great, company, issues, issues, great, company, work]   \n",
       "490  [amazing, place, work, beware, entitlement, 1, great, work, life, balance, s, companies, know, consistent, 40hr, work, week, pay, salary, 2, cool, projects, work, good, balance, research, development, caveats, 3, supportive, healthy, psychologically, safe, work, environment, google, cares, ton, work, work, culture, means, lot, self, determination, don, t, feel, like, mercy, management, 4, super, easy, internal, mobility, lots, change, teams, couple, years, google, different, types, work, won, t, feel, stuck, long, like, working, google, overall, ll, able, find, interesting, 5, s, google, having, google, resume, opens, doors, opportunities, s, great, networking, generally, colleagues, field, 1, entitlement, literally, 5x, dreamt, comp, insane, ...]   \n",
       "94                                                                                                                                                                                                                                                                                                                                                                                                                                                                                                                                                                                                                                                 [good, place, career, growth, good, benefits, great, culture, working, bunch, motivated, people, s, competitive, takes, time, promoted]   \n",
       "200                                                                                                                                                                                                                                                                                                                                                                                                                                                                                                                                                                                                                                                                                                                                             [good, good, compensation, benefits, talk]   \n",
       "461                                                                                                                                                                                                                                                                                                                                                                                                                                                                                                                                                                                                                                                                                                                             [sde, good, terms, work, cons, workadvice, managementnone]   \n",
       "194                                                                                                                                                                                                                                                                                                                                                                                                                                                                                                                                                                                                                                                                                                           [great, working, environment, companies, care, staff, lot, specific, moment]   \n",
       "153                                                                                                                                                                                                                                                                                                                                                                                                                                                                                                                                                                        [good, place, work, highly, competitive, environment, office, perks, health, insurance, inclusivity, good, compensation, high, pressure, high, expectation, leadership, highly, competitiveadvice, managementn]   \n",
       "\n",
       "                                                                                                                                                                                                                                                                                                                                                                                                                                                                                                                                                                                                                                                                                                                                                       after_lemma  \n",
       "146                                                                                                                                                                                                                                                                                                                                                                                                                                                                                                                                                                                                                           [google, sg, bright, people, opportunity, innovate, work, project, passionate, bright, people, perf, blood, sport, distribute, site]  \n",
       "204                                                                                                                                                                                                                                                                                                                                                                                                                                                                                                                                                                             [good, company, dreamland, great, benefit, possibility, advancement, management, director, completely, shield, negative, comment, hr, department, highly, political, organization]  \n",
       "9                                                                                                                                                                                                                                                                                                                                                                                                                                                                                                                                                                                                                                                                                               [great, working, environment, fun, work, info, need, pick, choose]  \n",
       "129                                                                                                                                                                                                                                                                                                                                                                                                                                                                                                                                                                                                                                                                                       [great, place, work, great, company, issue, issue, great, company, work]  \n",
       "490  [amazing, place, work, beware, entitlement, 1, great, work, life, balance, s, company, know, consistent, 40hr, work, week, pay, salary, 2, cool, project, work, good, balance, research, development, caveat, 3, supportive, healthy, psychologically, safe, work, environment, google, care, ton, work, work, culture, mean, lot, self, determination, don, t, feel, like, mercy, management, 4, super, easy, internal, mobility, lot, change, team, couple, year, google, different, type, work, win, t, feel, stick, long, like, work, google, overall, ll, able, find, interesting, 5, s, google, have, google, resume, open, door, opportunity, s, great, network, generally, colleague, field, 1, entitlement, literally, 5x, dream, comp, insane, ...]  \n",
       "94                                                                                                                                                                                                                                                                                                                                                                                                                                                                                                                                                                                                                               [good, place, career, growth, good, benefit, great, culture, work, bunch, motivated, people, s, competitive, take, time, promote]  \n",
       "200                                                                                                                                                                                                                                                                                                                                                                                                                                                                                                                                                                                                                                                                                                                      [good, good, compensation, benefit, talk]  \n",
       "461                                                                                                                                                                                                                                                                                                                                                                                                                                                                                                                                                                                                                                                                                                       [sde, good, term, work, con, workadvice, managementnone]  \n",
       "194                                                                                                                                                                                                                                                                                                                                                                                                                                                                                                                                                                                                                                                                                     [great, working, environment, company, care, staff, lot, specific, moment]  \n",
       "153                                                                                                                                                                                                                                                                                                                                                                                                                                                                                                                                                 [good, place, work, highly, competitive, environment, office, perk, health, insurance, inclusivity, good, compensation, high, pressure, high, expectation, leadership, highly, competitiveadvice, managementn]  "
      ]
     },
     "execution_count": 75,
     "metadata": {},
     "output_type": "execute_result"
    }
   ],
   "source": [
    "google_df.sample(10)"
   ]
  },
  {
   "cell_type": "markdown",
   "id": "cbee7c83",
   "metadata": {},
   "source": [
    "## Tokenizing, removing stopwords and lemmatizing"
   ]
  },
  {
   "cell_type": "code",
   "execution_count": 62,
   "id": "fb61719e",
   "metadata": {},
   "outputs": [],
   "source": [
    "pd.set_option('display.max_colwidth', 999)"
   ]
  },
  {
   "cell_type": "code",
   "execution_count": 39,
   "id": "b79eccfc",
   "metadata": {
    "scrolled": true
   },
   "outputs": [],
   "source": [
    "# load spacy small english models\n",
    "nlp = spacy.load('en_core_web_sm')"
   ]
  },
  {
   "cell_type": "code",
   "execution_count": 72,
   "id": "5e39dd35",
   "metadata": {},
   "outputs": [],
   "source": [
    "# function to remove stopwords\n",
    "def remove_stopwords(text):\n",
    "    text = [token for token in text if not token.is_stop]\n",
    "    return text\n",
    "\n",
    "# function to lemmatize\n",
    "def lemmatize(text):\n",
    "    text = [token.lemma_ for token in text]\n",
    "    return text\n",
    "\n",
    "# combine function to perform both removal stopwords and lemmatizing\n",
    "def combine(text):\n",
    "    text = remove_stopwords(text)\n",
    "    text = lemmatize(text)\n",
    "    text = pos_tag(text)\n",
    "    return text"
   ]
  },
  {
   "cell_type": "code",
   "execution_count": 41,
   "id": "61728d85",
   "metadata": {},
   "outputs": [],
   "source": [
    "# applying the spacy model to tokenize the sentence\n",
    "google_df['title_pros_cons'] = google_df['title_pros_cons'].apply(lambda x: nlp(x))\n",
    "tencent_df['title_pros_cons'] = tencent_df['title_pros_cons'].apply(lambda x: nlp(x))"
   ]
  },
  {
   "cell_type": "code",
   "execution_count": 66,
   "id": "29cafcd2",
   "metadata": {},
   "outputs": [],
   "source": [
    "# using the combine to do removal stopwords and lemmatizing\n",
    "google_df['after_lemma'] = google_df['title_pros_cons'].apply(lambda x: combine(x))\n",
    "tencent_df['after_lemma'] = tencent_df['title_pros_cons'].apply(lambda x: combine(x))"
   ]
  },
  {
   "cell_type": "markdown",
   "id": "8e4a92a7",
   "metadata": {},
   "source": []
  },
  {
   "cell_type": "code",
   "execution_count": 85,
   "id": "3fcd2c86",
   "metadata": {},
   "outputs": [],
   "source": [
    "test = nlp('good, really, good, compensation, and, benefits, nothing, much, to, talk, about')\n",
    "for token in test.noun_chunks:\n",
    "    print(token.text)"
   ]
  },
  {
   "cell_type": "code",
   "execution_count": null,
   "id": "e95873ea",
   "metadata": {},
   "outputs": [],
   "source": [
    "from collection import Counter\n",
    "\n",
    "word_freq = Counter()"
   ]
  },
  {
   "cell_type": "markdown",
   "id": "ac2ced13",
   "metadata": {},
   "source": [
    "### LDA Topic Modeling"
   ]
  },
  {
   "cell_type": "code",
   "execution_count": null,
   "id": "5c082c8c",
   "metadata": {},
   "outputs": [],
   "source": [
    "from gensim.corpora.dictionary import Dictionary\n",
    "\n",
    "# set pros and cons from dataframe into variables\n",
    "tencent_pros = tencent_df['pros']\n",
    "tencent_cons = tencent_df['cons']\n",
    "google_pros = google_df['pros']\n",
    "google_cons = google_df['cons']"
   ]
  }
 ],
 "metadata": {
  "kernelspec": {
   "display_name": "Python 3 (ipykernel)",
   "language": "python",
   "name": "python3"
  },
  "language_info": {
   "codemirror_mode": {
    "name": "ipython",
    "version": 3
   },
   "file_extension": ".py",
   "mimetype": "text/x-python",
   "name": "python",
   "nbconvert_exporter": "python",
   "pygments_lexer": "ipython3",
   "version": "3.9.12"
  }
 },
 "nbformat": 4,
 "nbformat_minor": 5
}
